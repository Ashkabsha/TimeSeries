{
  "metadata": {
    "language_info": {
      "codemirror_mode": {
        "name": "python",
        "version": 3
      },
      "file_extension": ".py",
      "mimetype": "text/x-python",
      "name": "python",
      "nbconvert_exporter": "python",
      "pygments_lexer": "ipython3",
      "version": "3.8"
    },
    "kernelspec": {
      "name": "python",
      "display_name": "Python (Pyodide)",
      "language": "python"
    },
    "colab": {
      "provenance": [],
      "gpuType": "T4",
      "include_colab_link": true
    },
    "accelerator": "GPU"
  },
  "nbformat_minor": 0,
  "nbformat": 4,
  "cells": [
    {
      "cell_type": "markdown",
      "metadata": {
        "id": "view-in-github",
        "colab_type": "text"
      },
      "source": [
        "<a href=\"https://colab.research.google.com/github/Ashkabsha/TimeSeries/blob/main/cnnlstm%20PRO.ipynb\" target=\"_parent\"><img src=\"https://colab.research.google.com/assets/colab-badge.svg\" alt=\"Open In Colab\"/></a>"
      ]
    },
    {
      "cell_type": "code",
      "source": [
        "!pip install keras"
      ],
      "metadata": {
        "id": "4HW-12k13F63"
      },
      "execution_count": null,
      "outputs": []
    },
    {
      "cell_type": "code",
      "source": [
        "import pandas as pd\n",
        "import numpy as np\n",
        "from sklearn.model_selection import train_test_split\n",
        "from keras.models import Sequential\n",
        "from sklearn import preprocessing\n",
        "from keras.layers import Conv1D,Flatten,MaxPooling1D,Bidirectional,LSTM,Dropout,TimeDistributed,MaxPool2D\n",
        "from keras.layers import Dense,GlobalAveragePooling2D\n",
        "import matplotlib.pyplot as plt\n",
        "import os\n",
        "import pprint\n",
        "import tensorflow as tf\n",
        "import yfinance as yf\n"
      ],
      "metadata": {
        "trusted": true,
        "id": "a4joDZyZ254H"
      },
      "execution_count": null,
      "outputs": []
    },
    {
      "cell_type": "code",
      "source": [
        "stock= yf.download(\"AAPL\")"
      ],
      "metadata": {
        "trusted": true,
        "colab": {
          "base_uri": "https://localhost:8080/"
        },
        "id": "RhLFdMxD254J",
        "outputId": "df938eab-54e5-4828-9636-35f383f54b50"
      },
      "execution_count": null,
      "outputs": [
        {
          "output_type": "stream",
          "name": "stdout",
          "text": [
            "\r[*********************100%%**********************]  1 of 1 completed\n"
          ]
        }
      ]
    },
    {
      "cell_type": "code",
      "source": [
        "# filename = 'AAPL'\n",
        "# stock = pd.read_csv('Data/' + filename + '.csv')\n",
        "# scaler = preprocessing.MinMaxScaler()\n",
        "# scaled_values = scaler.fit_transform(stock.iloc[:,1:4])\n",
        "# stock.iloc[:,1:4] = scaled_values\n",
        "#\n",
        "# y_scaler = preprocessing.MinMaxScaler()\n",
        "# scaled_values = y_scaler.fit_transform(np.array(stock.iloc[:,4]).reshape(-1,1))\n",
        "# stock.iloc[:,4] = scaled_values\n",
        "#\n",
        "# scaler = preprocessing.MinMaxScaler()\n",
        "# scaled_values = scaler.fit_transform(stock.iloc[:,5:])\n",
        "# stock.iloc[:,5:] = scaled_values"
      ],
      "metadata": {
        "trusted": true,
        "id": "qUQtsveN254J"
      },
      "execution_count": null,
      "outputs": []
    },
    {
      "cell_type": "code",
      "source": [
        "window_size = 50\n",
        "week = 7\n",
        "X = []\n",
        "Y = []\n",
        "\n",
        "for i in range(0 , len(stock) - window_size -1 , 1):\n",
        "    first = stock.iloc[i, 4]\n",
        "    temp = []\n",
        "    temp2 = []\n",
        "    for j in range(window_size):\n",
        "        temp.append((stock.iloc[i + j, 4] - first) / first)\n",
        "    # for j in range(week):\n",
        "    temp2.append((stock.iloc[i +window_size, 4] - first) / first)\n",
        "    # X.append(np.array(stock.iloc[i:i+window_size,4]).reshape(50,1))\n",
        "    # Y.append(np.array(stock.iloc[i+window_size,4]).reshape(1,1))\n",
        "    # print(stock2.iloc[i:i+window_size,4])\n",
        "    X.append(np.array(temp).reshape(50, 1))\n",
        "    Y.append(np.array(temp2).reshape(1,1))\n",
        "train_X,test_X,train_label,test_label = train_test_split(X, Y, test_size=0.1,shuffle=False)\n",
        "len_t = len(train_X)\n",
        "# train_X,valid_X,train_label,valid_label = train_test_split(train_X, train_label, test_size=0.2,shuffle=True)"
      ],
      "metadata": {
        "trusted": true,
        "id": "zn8oEEXR254J"
      },
      "execution_count": null,
      "outputs": []
    },
    {
      "cell_type": "code",
      "source": [
        "print(len(train_X))\n",
        "print(len(test_X))\n",
        "train_X = np.array(train_X)\n",
        "test_X = np.array(test_X)\n",
        "train_label = np.array(train_label)\n",
        "test_label = np.array(test_label)\n",
        "# valid_label = np.array(valid_label)\n",
        "# valid_X = np.array(valid_X)\n",
        "train_X = train_X.reshape(train_X.shape[0],1,50,1)\n",
        "test_X = test_X.reshape(test_X.shape[0],1,50,1)"
      ],
      "metadata": {
        "trusted": true,
        "colab": {
          "base_uri": "https://localhost:8080/"
        },
        "id": "185p10_i254J",
        "outputId": "fb726904-82c2-44d0-bc86-76420f84a61b"
      },
      "execution_count": null,
      "outputs": [
        {
          "output_type": "stream",
          "name": "stdout",
          "text": [
            "9682\n",
            "1076\n"
          ]
        }
      ]
    },
    {
      "cell_type": "code",
      "source": [
        "model = Sequential()\n",
        "#add model layers\n",
        "model.add(TimeDistributed(Conv1D(128, kernel_size=1, activation='relu', input_shape=(None,50,1))))\n",
        "model.add(TimeDistributed(MaxPooling1D(2)))\n",
        "model.add(TimeDistributed(Conv1D(256, kernel_size=1, activation='relu')))\n",
        "model.add(TimeDistributed(MaxPooling1D(2)))\n",
        "model.add(TimeDistributed(Conv1D(512, kernel_size=1, activation='relu')))\n",
        "model.add(TimeDistributed(MaxPooling1D(2)))\n",
        "model.add(TimeDistributed(Flatten()))\n",
        "model.add(Bidirectional(LSTM(200,return_sequences=True)))\n",
        "model.add(Dropout(0.25))\n",
        "model.add(Bidirectional(LSTM(200,return_sequences=False)))\n",
        "model.add(Dropout(0.5))\n",
        "model.add(Dense(1, activation='linear'))\n",
        "model.compile(optimizer='RMSprop', loss='mse')\n",
        "model.fit(train_X, train_label, validation_data=(test_X,test_label), epochs=40,batch_size=64,shuffle =False)\n",
        "print(model.evaluate(test_X,test_label))\n",
        "# model.summary()"
      ],
      "metadata": {
        "trusted": true,
        "colab": {
          "base_uri": "https://localhost:8080/"
        },
        "id": "UZUEYkmR254K",
        "outputId": "d3cbe1e0-e8e3-4c3d-f922-3d3b00ad01b0"
      },
      "execution_count": null,
      "outputs": [
        {
          "output_type": "stream",
          "name": "stdout",
          "text": [
            "Epoch 1/40\n",
            "152/152 [==============================] - 26s 21ms/step - loss: 0.0229 - val_loss: 0.0034\n",
            "Epoch 2/40\n",
            "152/152 [==============================] - 2s 11ms/step - loss: 0.0098 - val_loss: 0.0022\n",
            "Epoch 3/40\n",
            "152/152 [==============================] - 1s 10ms/step - loss: 0.0080 - val_loss: 0.0021\n",
            "Epoch 4/40\n",
            "152/152 [==============================] - 2s 10ms/step - loss: 0.0070 - val_loss: 0.0021\n",
            "Epoch 5/40\n",
            "152/152 [==============================] - 2s 11ms/step - loss: 0.0068 - val_loss: 0.0022\n",
            "Epoch 6/40\n",
            "152/152 [==============================] - 2s 13ms/step - loss: 0.0063 - val_loss: 0.0021\n",
            "Epoch 7/40\n",
            "152/152 [==============================] - 1s 10ms/step - loss: 0.0063 - val_loss: 0.0021\n",
            "Epoch 8/40\n",
            "152/152 [==============================] - 2s 10ms/step - loss: 0.0062 - val_loss: 0.0022\n",
            "Epoch 9/40\n",
            "152/152 [==============================] - 1s 10ms/step - loss: 0.0062 - val_loss: 0.0022\n",
            "Epoch 10/40\n",
            "152/152 [==============================] - 2s 10ms/step - loss: 0.0061 - val_loss: 0.0021\n",
            "Epoch 11/40\n",
            "152/152 [==============================] - 1s 10ms/step - loss: 0.0060 - val_loss: 0.0020\n",
            "Epoch 12/40\n",
            "152/152 [==============================] - 1s 10ms/step - loss: 0.0058 - val_loss: 0.0021\n",
            "Epoch 13/40\n",
            "152/152 [==============================] - 2s 12ms/step - loss: 0.0058 - val_loss: 0.0021\n",
            "Epoch 14/40\n",
            "152/152 [==============================] - 2s 12ms/step - loss: 0.0058 - val_loss: 0.0021\n",
            "Epoch 15/40\n",
            "152/152 [==============================] - 1s 10ms/step - loss: 0.0057 - val_loss: 0.0022\n",
            "Epoch 16/40\n",
            "152/152 [==============================] - 2s 10ms/step - loss: 0.0057 - val_loss: 0.0020\n",
            "Epoch 17/40\n",
            "152/152 [==============================] - 2s 11ms/step - loss: 0.0057 - val_loss: 0.0021\n",
            "Epoch 18/40\n",
            "152/152 [==============================] - 1s 10ms/step - loss: 0.0056 - val_loss: 0.0021\n",
            "Epoch 19/40\n",
            "152/152 [==============================] - 2s 10ms/step - loss: 0.0056 - val_loss: 0.0021\n",
            "Epoch 20/40\n",
            "152/152 [==============================] - 2s 10ms/step - loss: 0.0056 - val_loss: 0.0022\n",
            "Epoch 21/40\n",
            "152/152 [==============================] - 3s 20ms/step - loss: 0.0055 - val_loss: 0.0021\n",
            "Epoch 22/40\n",
            "152/152 [==============================] - 2s 12ms/step - loss: 0.0055 - val_loss: 0.0020\n",
            "Epoch 23/40\n",
            "152/152 [==============================] - 2s 11ms/step - loss: 0.0055 - val_loss: 0.0021\n",
            "Epoch 24/40\n",
            "152/152 [==============================] - 1s 10ms/step - loss: 0.0054 - val_loss: 0.0020\n",
            "Epoch 25/40\n",
            "152/152 [==============================] - 2s 10ms/step - loss: 0.0055 - val_loss: 0.0022\n",
            "Epoch 26/40\n",
            "152/152 [==============================] - 2s 10ms/step - loss: 0.0054 - val_loss: 0.0021\n",
            "Epoch 27/40\n",
            "152/152 [==============================] - 2s 11ms/step - loss: 0.0054 - val_loss: 0.0020\n",
            "Epoch 28/40\n",
            "152/152 [==============================] - 2s 12ms/step - loss: 0.0054 - val_loss: 0.0020\n",
            "Epoch 29/40\n",
            "152/152 [==============================] - 1s 10ms/step - loss: 0.0054 - val_loss: 0.0021\n",
            "Epoch 30/40\n",
            "152/152 [==============================] - 2s 13ms/step - loss: 0.0053 - val_loss: 0.0020\n",
            "Epoch 31/40\n",
            "152/152 [==============================] - 2s 12ms/step - loss: 0.0054 - val_loss: 0.0021\n",
            "Epoch 32/40\n",
            "152/152 [==============================] - 1s 10ms/step - loss: 0.0053 - val_loss: 0.0020\n",
            "Epoch 33/40\n",
            "152/152 [==============================] - 1s 10ms/step - loss: 0.0053 - val_loss: 0.0020\n",
            "Epoch 34/40\n",
            "152/152 [==============================] - 1s 10ms/step - loss: 0.0052 - val_loss: 0.0021\n",
            "Epoch 35/40\n",
            "152/152 [==============================] - 2s 14ms/step - loss: 0.0053 - val_loss: 0.0021\n",
            "Epoch 36/40\n",
            "152/152 [==============================] - 2s 11ms/step - loss: 0.0053 - val_loss: 0.0020\n",
            "Epoch 37/40\n",
            "152/152 [==============================] - 2s 10ms/step - loss: 0.0053 - val_loss: 0.0020\n",
            "Epoch 38/40\n",
            "152/152 [==============================] - 1s 10ms/step - loss: 0.0052 - val_loss: 0.0021\n",
            "Epoch 39/40\n",
            "152/152 [==============================] - 1s 10ms/step - loss: 0.0052 - val_loss: 0.0020\n",
            "Epoch 40/40\n",
            "152/152 [==============================] - 1s 10ms/step - loss: 0.0052 - val_loss: 0.0020\n",
            "34/34 [==============================] - 0s 8ms/step - loss: 0.0020\n",
            "0.0020388164557516575\n"
          ]
        }
      ]
    },
    {
      "cell_type": "code",
      "source": [
        "predicted  = model.predict(test_X)\n",
        "test_label = (test_label[:,0])\n",
        "predicted = np.array(predicted[:,0]).reshape(-1,1)\n",
        "for j in range(len_t , len_t + len(test_X)):\n",
        "    temp =stock.iloc[j,4]\n",
        "    test_label[j - len_t] = test_label[j - len_t] * temp + temp\n",
        "    predicted[j - len_t] = predicted[j - len_t] * temp + temp"
      ],
      "metadata": {
        "trusted": true,
        "colab": {
          "base_uri": "https://localhost:8080/"
        },
        "id": "39meaNh-254K",
        "outputId": "a4663831-9065-4883-ac78-dc24ca4866c7"
      },
      "execution_count": null,
      "outputs": [
        {
          "output_type": "stream",
          "name": "stdout",
          "text": [
            "34/34 [==============================] - 2s 5ms/step\n"
          ]
        }
      ]
    },
    {
      "cell_type": "code",
      "source": [
        "plt.plot(test_label, color = 'black', label = ' Stock Price')\n",
        "plt.plot(predicted, color = 'green', label = 'Predicted  Stock Price')\n",
        "plt.title(' Stock Price Prediction')\n",
        "plt.xlabel('Time')\n",
        "plt.ylabel(' Stock Price')\n",
        "plt.legend()\n",
        "plt.show()\n",
        "# predicted  = model.predict(test_X)\n",
        "# test_label[:,0] = y_scaler.inverse_transform(test_label[:,0])\n",
        "# predicted = np.array(predicted[:,0]).reshape(-1,1)\n",
        "# predicted = y_scaler.inverse_transform(predicted)\n",
        "# plt.plot(test_label[:,0], color = 'black', label = ' Stock Price')\n",
        "# plt.plot(predicted, color = 'green', label = 'Predicted  Stock Price')\n",
        "# plt.title(' Stock Price Prediction')\n",
        "# plt.xlabel('Time')\n",
        "# plt.ylabel(' Stock Price')\n",
        "# plt.legend()\n",
        "# plt.show()"
      ],
      "metadata": {
        "trusted": true,
        "colab": {
          "base_uri": "https://localhost:8080/",
          "height": 472
        },
        "id": "dDAAoL46254K",
        "outputId": "15ddd9c2-a8b1-4d99-a887-c435c0b53f2c"
      },
      "execution_count": null,
      "outputs": [
        {
          "output_type": "display_data",
          "data": {
            "text/plain": [
              "<Figure size 640x480 with 1 Axes>"
            ],
            "image/png": "[encoded data removed]"
          },
          "metadata": {}
        }
      ]
    },
    {
      "cell_type": "code",
      "source": [
        "from sklearn.metrics import mean_absolute_error, mean_squared_error\n",
        "\n",
        "\n",
        "# Calculate MAE, MSE, and RMSE\n",
        "mae = mean_absolute_error(test_label, predicted)\n",
        "mse = mean_squared_error(test_label, predicted)\n",
        "rmse = np.sqrt(mse)\n",
        "\n",
        "# Print results\n",
        "print('MAE:', mae)\n",
        "print('MSE:', mse)\n",
        "print('RMSE:', rmse)"
      ],
      "metadata": {
        "colab": {
          "base_uri": "https://localhost:8080/"
        },
        "id": "sbkKm7q-9tDn",
        "outputId": "f7e6f330-cec7-4d17-e1dd-119f25e588fc"
      },
      "execution_count": null,
      "outputs": [
        {
          "output_type": "stream",
          "name": "stdout",
          "text": [
            "MAE: 4.125315336489766\n",
            "MSE: 28.092676904731377\n",
            "RMSE: 5.300252532165932\n"
          ]
        }
      ]
    },
    {
      "cell_type": "code",
      "source": [
        "import matplotlib.pyplot as plt\n",
        "\n",
        "# Predict stock prices for next 12 days\n",
        "future_days = 12\n",
        "future_predictions = []\n",
        "last_window = X[-1]\n",
        "for i in range(future_days):\n",
        "    pred = model.predict(last_window.reshape(1, 50, 1))[0][0]\n",
        "    future_predictions.append(pred)\n",
        "    last_window = np.roll(last_window, -1)\n",
        "    last_window[-1] = pred\n",
        "\n",
        "# Plot predicted stock prices\n",
        "plt.plot(stock.index[-len(test_X):], test_label, label='Actual')\n",
        "plt.plot(stock.index[-len(test_X):], predicted, label='Predicted')\n",
        "plt.plot(pd.date_range(start=stock.index[-1], periods=future_days+1)[1:], future_predictions, label='Future Predictions')\n",
        "plt.legend()\n",
        "plt.show()\n",
        "\n"
      ],
      "metadata": {
        "colab": {
          "base_uri": "https://localhost:8080/",
          "height": 737
        },
        "id": "B8OwNR6s254K",
        "outputId": "12c5e5ad-5ac6-42aa-8eaf-3a64f7452faf"
      },
      "execution_count": null,
      "outputs": [
        {
          "output_type": "error",
          "ename": "ValueError",
          "evalue": "ignored",
          "traceback": [
            "\u001b[0;31m---------------------------------------------------------------------------\u001b[0m",
            "\u001b[0;31mValueError\u001b[0m                                Traceback (most recent call last)",
            "\u001b[0;32m<ipython-input-11-d47c6b380e49>\u001b[0m in \u001b[0;36m<cell line: 7>\u001b[0;34m()\u001b[0m\n\u001b[1;32m      6\u001b[0m \u001b[0mlast_window\u001b[0m \u001b[0;34m=\u001b[0m \u001b[0mX\u001b[0m\u001b[0;34m[\u001b[0m\u001b[0;34m-\u001b[0m\u001b[0;36m1\u001b[0m\u001b[0;34m]\u001b[0m\u001b[0;34m\u001b[0m\u001b[0;34m\u001b[0m\u001b[0m\n\u001b[1;32m      7\u001b[0m \u001b[0;32mfor\u001b[0m \u001b[0mi\u001b[0m \u001b[0;32min\u001b[0m \u001b[0mrange\u001b[0m\u001b[0;34m(\u001b[0m\u001b[0mfuture_days\u001b[0m\u001b[0;34m)\u001b[0m\u001b[0;34m:\u001b[0m\u001b[0;34m\u001b[0m\u001b[0;34m\u001b[0m\u001b[0m\n\u001b[0;32m----> 8\u001b[0;31m     \u001b[0mpred\u001b[0m \u001b[0;34m=\u001b[0m \u001b[0mmodel\u001b[0m\u001b[0;34m.\u001b[0m\u001b[0mpredict\u001b[0m\u001b[0;34m(\u001b[0m\u001b[0mlast_window\u001b[0m\u001b[0;34m.\u001b[0m\u001b[0mreshape\u001b[0m\u001b[0;34m(\u001b[0m\u001b[0;36m1\u001b[0m\u001b[0;34m,\u001b[0m \u001b[0;36m50\u001b[0m\u001b[0;34m,\u001b[0m \u001b[0;36m1\u001b[0m\u001b[0;34m)\u001b[0m\u001b[0;34m)\u001b[0m\u001b[0;34m[\u001b[0m\u001b[0;36m0\u001b[0m\u001b[0;34m]\u001b[0m\u001b[0;34m[\u001b[0m\u001b[0;36m0\u001b[0m\u001b[0;34m]\u001b[0m\u001b[0;34m\u001b[0m\u001b[0;34m\u001b[0m\u001b[0m\n\u001b[0m\u001b[1;32m      9\u001b[0m     \u001b[0mfuture_predictions\u001b[0m\u001b[0;34m.\u001b[0m\u001b[0mappend\u001b[0m\u001b[0;34m(\u001b[0m\u001b[0mpred\u001b[0m\u001b[0;34m)\u001b[0m\u001b[0;34m\u001b[0m\u001b[0;34m\u001b[0m\u001b[0m\n\u001b[1;32m     10\u001b[0m     \u001b[0mlast_window\u001b[0m \u001b[0;34m=\u001b[0m \u001b[0mnp\u001b[0m\u001b[0;34m.\u001b[0m\u001b[0mroll\u001b[0m\u001b[0;34m(\u001b[0m\u001b[0mlast_window\u001b[0m\u001b[0;34m,\u001b[0m \u001b[0;34m-\u001b[0m\u001b[0;36m1\u001b[0m\u001b[0;34m)\u001b[0m\u001b[0;34m\u001b[0m\u001b[0;34m\u001b[0m\u001b[0m\n",
            "\u001b[0;32m/usr/local/lib/python3.10/dist-packages/keras/src/utils/traceback_utils.py\u001b[0m in \u001b[0;36merror_handler\u001b[0;34m(*args, **kwargs)\u001b[0m\n\u001b[1;32m     68\u001b[0m             \u001b[0;31m# To get the full stack trace, call:\u001b[0m\u001b[0;34m\u001b[0m\u001b[0;34m\u001b[0m\u001b[0m\n\u001b[1;32m     69\u001b[0m             \u001b[0;31m# `tf.debugging.disable_traceback_filtering()`\u001b[0m\u001b[0;34m\u001b[0m\u001b[0;34m\u001b[0m\u001b[0m\n\u001b[0;32m---> 70\u001b[0;31m             \u001b[0;32mraise\u001b[0m \u001b[0me\u001b[0m\u001b[0;34m.\u001b[0m\u001b[0mwith_traceback\u001b[0m\u001b[0;34m(\u001b[0m\u001b[0mfiltered_tb\u001b[0m\u001b[0;34m)\u001b[0m \u001b[0;32mfrom\u001b[0m \u001b[0;32mNone\u001b[0m\u001b[0;34m\u001b[0m\u001b[0;34m\u001b[0m\u001b[0m\n\u001b[0m\u001b[1;32m     71\u001b[0m         \u001b[0;32mfinally\u001b[0m\u001b[0;34m:\u001b[0m\u001b[0;34m\u001b[0m\u001b[0;34m\u001b[0m\u001b[0m\n\u001b[1;32m     72\u001b[0m             \u001b[0;32mdel\u001b[0m \u001b[0mfiltered_tb\u001b[0m\u001b[0;34m\u001b[0m\u001b[0;34m\u001b[0m\u001b[0m\n",
            "\u001b[0;32m/usr/local/lib/python3.10/dist-packages/keras/src/engine/training.py\u001b[0m in \u001b[0;36mtf__predict_function\u001b[0;34m(iterator)\u001b[0m\n\u001b[1;32m     13\u001b[0m                 \u001b[0;32mtry\u001b[0m\u001b[0;34m:\u001b[0m\u001b[0;34m\u001b[0m\u001b[0;34m\u001b[0m\u001b[0m\n\u001b[1;32m     14\u001b[0m                     \u001b[0mdo_return\u001b[0m \u001b[0;34m=\u001b[0m \u001b[0;32mTrue\u001b[0m\u001b[0;34m\u001b[0m\u001b[0;34m\u001b[0m\u001b[0m\n\u001b[0;32m---> 15\u001b[0;31m                     \u001b[0mretval_\u001b[0m \u001b[0;34m=\u001b[0m \u001b[0mag__\u001b[0m\u001b[0;34m.\u001b[0m\u001b[0mconverted_call\u001b[0m\u001b[0;34m(\u001b[0m\u001b[0mag__\u001b[0m\u001b[0;34m.\u001b[0m\u001b[0mld\u001b[0m\u001b[0;34m(\u001b[0m\u001b[0mstep_function\u001b[0m\u001b[0;34m)\u001b[0m\u001b[0;34m,\u001b[0m \u001b[0;34m(\u001b[0m\u001b[0mag__\u001b[0m\u001b[0;34m.\u001b[0m\u001b[0mld\u001b[0m\u001b[0;34m(\u001b[0m\u001b[0mself\u001b[0m\u001b[0;34m)\u001b[0m\u001b[0;34m,\u001b[0m \u001b[0mag__\u001b[0m\u001b[0;34m.\u001b[0m\u001b[0mld\u001b[0m\u001b[0;34m(\u001b[0m\u001b[0miterator\u001b[0m\u001b[0;34m)\u001b[0m\u001b[0;34m)\u001b[0m\u001b[0;34m,\u001b[0m \u001b[0;32mNone\u001b[0m\u001b[0;34m,\u001b[0m \u001b[0mfscope\u001b[0m\u001b[0;34m)\u001b[0m\u001b[0;34m\u001b[0m\u001b[0;34m\u001b[0m\u001b[0m\n\u001b[0m\u001b[1;32m     16\u001b[0m                 \u001b[0;32mexcept\u001b[0m\u001b[0;34m:\u001b[0m\u001b[0;34m\u001b[0m\u001b[0;34m\u001b[0m\u001b[0m\n\u001b[1;32m     17\u001b[0m                     \u001b[0mdo_return\u001b[0m \u001b[0;34m=\u001b[0m \u001b[0;32mFalse\u001b[0m\u001b[0;34m\u001b[0m\u001b[0;34m\u001b[0m\u001b[0m\n",
            "\u001b[0;31mValueError\u001b[0m: in user code:\n\n    File \"/usr/local/lib/python3.10/dist-packages/keras/src/engine/training.py\", line 2416, in predict_function  *\n        return step_function(self, iterator)\n    File \"/usr/local/lib/python3.10/dist-packages/keras/src/engine/training.py\", line 2401, in step_function  **\n        outputs = model.distribute_strategy.run(run_step, args=(data,))\n    File \"/usr/local/lib/python3.10/dist-packages/keras/src/engine/training.py\", line 2389, in run_step  **\n        outputs = model.predict_step(data)\n    File \"/usr/local/lib/python3.10/dist-packages/keras/src/engine/training.py\", line 2357, in predict_step\n        return self(x, training=False)\n    File \"/usr/local/lib/python3.10/dist-packages/keras/src/utils/traceback_utils.py\", line 70, in error_handler\n        raise e.with_traceback(filtered_tb) from None\n\n    ValueError: Exception encountered when calling layer 'sequential' (type Sequential).\n    \n    Cannot iterate over a shape with unknown rank.\n    \n    Call arguments received by layer 'sequential' (type Sequential):\n      • inputs=tf.Tensor(shape=<unknown>, dtype=float32)\n      • training=False\n      • mask=None\n"
          ]
        }
      ]
    },
    {
      "cell_type": "code",
      "source": [],
      "metadata": {
        "id": "NIJ1HKJ1254L"
      },
      "execution_count": null,
      "outputs": []
    },
    {
      "cell_type": "code",
      "source": [],
      "metadata": {
        "id": "N8sZo48l254L"
      },
      "execution_count": null,
      "outputs": []
    },
    {
      "cell_type": "code",
      "source": [],
      "metadata": {
        "id": "fnnSF4n8254L"
      },
      "execution_count": null,
      "outputs": []
    },
    {
      "cell_type": "code",
      "source": [],
      "metadata": {
        "id": "aW8SlVuV254L"
      },
      "execution_count": null,
      "outputs": []
    },
    {
      "cell_type": "code",
      "source": [],
      "metadata": {
        "id": "nsogQlzq254L"
      },
      "execution_count": null,
      "outputs": []
    }
  ]
}