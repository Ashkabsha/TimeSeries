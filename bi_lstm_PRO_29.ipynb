{
  "cells": [
    {
      "cell_type": "markdown",
      "metadata": {
        "id": "view-in-github",
        "colab_type": "text"
      },
      "source": [
        "<a href=\"https://colab.research.google.com/github/Ashkabsha/TimeSeries/blob/main/bi_lstm_PRO_29.ipynb\" target=\"_parent\"><img src=\"https://colab.research.google.com/assets/colab-badge.svg\" alt=\"Open In Colab\"/></a>"
      ]
    },
    {
      "cell_type": "markdown",
      "metadata": {
        "id": "h9gWDnUEzq9x"
      },
      "source": [
        "Importing Packages"
      ]
    },
    {
      "cell_type": "code",
      "execution_count": 1,
      "metadata": {
        "id": "v4t7z7Ets9Uz"
      },
      "outputs": [],
      "source": [
        "import pandas as pd\n",
        "import numpy as np\n",
        "from matplotlib import pyplot as plt\n",
        "from sklearn.preprocessing import MinMaxScaler\n",
        "from keras.models import Sequential\n",
        "from keras.layers import Dense\n",
        "from keras.layers import LSTM\n",
        "from keras.layers import Dropout\n",
        "import yfinance as yf\n",
        "from keras.initializers import RandomNormal\n",
        "from keras.layers import Bidirectional"
      ]
    },
    {
      "cell_type": "code",
      "execution_count": 2,
      "metadata": {
        "colab": {
          "base_uri": "https://localhost:8080/"
        },
        "id": "C8MsCCzYSz96",
        "outputId": "fefd31c5-f592-4221-85d5-c754f26fc2ae"
      },
      "outputs": [
        {
          "output_type": "stream",
          "name": "stdout",
          "text": [
            "\r[*********************100%%**********************]  1 of 1 completed\n",
            "                 Open       High        Low      Close  Adj Close     Volume\n",
            "Date                                                                        \n",
            "2018-11-29  45.665001  45.700001  44.424999  44.887501  43.083515  167080000\n",
            "2018-11-30  45.072498  45.082500  44.257500  44.645000  42.850765  158126000\n",
            "2018-12-03  46.115002  46.235001  45.302502  46.205002  44.348061  163210000\n",
            "2018-12-04  45.237499  45.597500  44.067501  44.172501  42.397243  165377200\n",
            "2018-12-06  42.939999  43.695000  42.605000  43.680000  41.924541  172393600\n"
          ]
        }
      ],
      "source": [
        "\n",
        "\n",
        "stock_symbol = 'AAPL'\n",
        "df = yf.download(stock_symbol,period=\"60mo\",interval=\"1d\")\n",
        "print(df.head())"
      ]
    },
    {
      "cell_type": "markdown",
      "metadata": {
        "id": "wQgAP3Vhzx5M"
      },
      "source": [
        "Importing Data"
      ]
    },
    {
      "cell_type": "code",
      "execution_count": 3,
      "metadata": {
        "id": "0VYSbvmGbWGT"
      },
      "outputs": [],
      "source": [
        "df.index = df.index.strftime('%Y-%m-%d')"
      ]
    },
    {
      "cell_type": "code",
      "source": [
        "df\n"
      ],
      "metadata": {
        "colab": {
          "base_uri": "https://localhost:8080/",
          "height": 455
        },
        "id": "crxUur3YIZEc",
        "outputId": "7367a805-4038-4748-af96-8a4cc2b22e65"
      },
      "execution_count": 4,
      "outputs": [
        {
          "output_type": "execute_result",
          "data": {
            "text/plain": [
              "                  Open        High         Low       Close   Adj Close  \\\n",
              "Date                                                                     \n",
              "2018-11-29   45.665001   45.700001   44.424999   44.887501   43.083515   \n",
              "2018-11-30   45.072498   45.082500   44.257500   44.645000   42.850765   \n",
              "2018-12-03   46.115002   46.235001   45.302502   46.205002   44.348061   \n",
              "2018-12-04   45.237499   45.597500   44.067501   44.172501   42.397243   \n",
              "2018-12-06   42.939999   43.695000   42.605000   43.680000   41.924541   \n",
              "...                ...         ...         ...         ...         ...   \n",
              "2023-11-22  191.490005  192.929993  190.830002  191.309998  191.309998   \n",
              "2023-11-24  190.869995  190.899994  189.250000  189.970001  189.970001   \n",
              "2023-11-27  189.919998  190.669998  188.899994  189.789993  189.789993   \n",
              "2023-11-28  189.779999  191.080002  189.399994  190.399994  190.399994   \n",
              "2023-11-29  189.779999  192.089996  190.839996  190.919998  190.919998   \n",
              "\n",
              "               Volume  \n",
              "Date                   \n",
              "2018-11-29  167080000  \n",
              "2018-11-30  158126000  \n",
              "2018-12-03  163210000  \n",
              "2018-12-04  165377200  \n",
              "2018-12-06  172393600  \n",
              "...               ...  \n",
              "2023-11-22   39617700  \n",
              "2023-11-24   24048300  \n",
              "2023-11-27   40552600  \n",
              "2023-11-28   38368300  \n",
              "2023-11-29    8009422  \n",
              "\n",
              "[1258 rows x 6 columns]"
            ],
            "text/html": [
              "\n",
              "  <div id=\"df-6da4b44f-3496-4a9b-8599-7d9947801046\" class=\"colab-df-container\">\n",
              "    <div>\n",
              "<style scoped>\n",
              "    .dataframe tbody tr th:only-of-type {\n",
              "        vertical-align: middle;\n",
              "    }\n",
              "\n",
              "    .dataframe tbody tr th {\n",
              "        vertical-align: top;\n",
              "    }\n",
              "\n",
              "    .dataframe thead th {\n",
              "        text-align: right;\n",
              "    }\n",
              "</style>\n",
              "<table border=\"1\" class=\"dataframe\">\n",
              "  <thead>\n",
              "    <tr style=\"text-align: right;\">\n",
              "      <th></th>\n",
              "      <th>Open</th>\n",
              "      <th>High</th>\n",
              "      <th>Low</th>\n",
              "      <th>Close</th>\n",
              "      <th>Adj Close</th>\n",
              "      <th>Volume</th>\n",
              "    </tr>\n",
              "    <tr>\n",
              "      <th>Date</th>\n",
              "      <th></th>\n",
              "      <th></th>\n",
              "      <th></th>\n",
              "      <th></th>\n",
              "      <th></th>\n",
              "      <th></th>\n",
              "    </tr>\n",
              "  </thead>\n",
              "  <tbody>\n",
              "    <tr>\n",
              "      <th>2018-11-29</th>\n",
              "      <td>45.665001</td>\n",
              "      <td>45.700001</td>\n",
              "      <td>44.424999</td>\n",
              "      <td>44.887501</td>\n",
              "      <td>43.083515</td>\n",
              "      <td>167080000</td>\n",
              "    </tr>\n",
              "    <tr>\n",
              "      <th>2018-11-30</th>\n",
              "      <td>45.072498</td>\n",
              "      <td>45.082500</td>\n",
              "      <td>44.257500</td>\n",
              "      <td>44.645000</td>\n",
              "      <td>42.850765</td>\n",
              "      <td>158126000</td>\n",
              "    </tr>\n",
              "    <tr>\n",
              "      <th>2018-12-03</th>\n",
              "      <td>46.115002</td>\n",
              "      <td>46.235001</td>\n",
              "      <td>45.302502</td>\n",
              "      <td>46.205002</td>\n",
              "      <td>44.348061</td>\n",
              "      <td>163210000</td>\n",
              "    </tr>\n",
              "    <tr>\n",
              "      <th>2018-12-04</th>\n",
              "      <td>45.237499</td>\n",
              "      <td>45.597500</td>\n",
              "      <td>44.067501</td>\n",
              "      <td>44.172501</td>\n",
              "      <td>42.397243</td>\n",
              "      <td>165377200</td>\n",
              "    </tr>\n",
              "    <tr>\n",
              "      <th>2018-12-06</th>\n",
              "      <td>42.939999</td>\n",
              "      <td>43.695000</td>\n",
              "      <td>42.605000</td>\n",
              "      <td>43.680000</td>\n",
              "      <td>41.924541</td>\n",
              "      <td>172393600</td>\n",
              "    </tr>\n",
              "    <tr>\n",
              "      <th>...</th>\n",
              "      <td>...</td>\n",
              "      <td>...</td>\n",
              "      <td>...</td>\n",
              "      <td>...</td>\n",
              "      <td>...</td>\n",
              "      <td>...</td>\n",
              "    </tr>\n",
              "    <tr>\n",
              "      <th>2023-11-22</th>\n",
              "      <td>191.490005</td>\n",
              "      <td>192.929993</td>\n",
              "      <td>190.830002</td>\n",
              "      <td>191.309998</td>\n",
              "      <td>191.309998</td>\n",
              "      <td>39617700</td>\n",
              "    </tr>\n",
              "    <tr>\n",
              "      <th>2023-11-24</th>\n",
              "      <td>190.869995</td>\n",
              "      <td>190.899994</td>\n",
              "      <td>189.250000</td>\n",
              "      <td>189.970001</td>\n",
              "      <td>189.970001</td>\n",
              "      <td>24048300</td>\n",
              "    </tr>\n",
              "    <tr>\n",
              "      <th>2023-11-27</th>\n",
              "      <td>189.919998</td>\n",
              "      <td>190.669998</td>\n",
              "      <td>188.899994</td>\n",
              "      <td>189.789993</td>\n",
              "      <td>189.789993</td>\n",
              "      <td>40552600</td>\n",
              "    </tr>\n",
              "    <tr>\n",
              "      <th>2023-11-28</th>\n",
              "      <td>189.779999</td>\n",
              "      <td>191.080002</td>\n",
              "      <td>189.399994</td>\n",
              "      <td>190.399994</td>\n",
              "      <td>190.399994</td>\n",
              "      <td>38368300</td>\n",
              "    </tr>\n",
              "    <tr>\n",
              "      <th>2023-11-29</th>\n",
              "      <td>189.779999</td>\n",
              "      <td>192.089996</td>\n",
              "      <td>190.839996</td>\n",
              "      <td>190.919998</td>\n",
              "      <td>190.919998</td>\n",
              "      <td>8009422</td>\n",
              "    </tr>\n",
              "  </tbody>\n",
              "</table>\n",
              "<p>1258 rows × 6 columns</p>\n",
              "</div>\n",
              "    <div class=\"colab-df-buttons\">\n",
              "\n",
              "  <div class=\"colab-df-container\">\n",
              "    <button class=\"colab-df-convert\" onclick=\"convertToInteractive('df-6da4b44f-3496-4a9b-8599-7d9947801046')\"\n",
              "            title=\"Convert this dataframe to an interactive table.\"\n",
              "            style=\"display:none;\">\n",
              "\n",
              "  <svg xmlns=\"http://www.w3.org/2000/svg\" height=\"24px\" viewBox=\"0 -960 960 960\">\n",
              "    <path d=\"M120-120v-720h720v720H120Zm60-500h600v-160H180v160Zm220 220h160v-160H400v160Zm0 220h160v-160H400v160ZM180-400h160v-160H180v160Zm440 0h160v-160H620v160ZM180-180h160v-160H180v160Zm440 0h160v-160H620v160Z\"/>\n",
              "  </svg>\n",
              "    </button>\n",
              "\n",
              "  <style>\n",
              "    .colab-df-container {\n",
              "      display:flex;\n",
              "      gap: 12px;\n",
              "    }\n",
              "\n",
              "    .colab-df-convert {\n",
              "      background-color: #E8F0FE;\n",
              "      border: none;\n",
              "      border-radius: 50%;\n",
              "      cursor: pointer;\n",
              "      display: none;\n",
              "      fill: #1967D2;\n",
              "      height: 32px;\n",
              "      padding: 0 0 0 0;\n",
              "      width: 32px;\n",
              "    }\n",
              "\n",
              "    .colab-df-convert:hover {\n",
              "      background-color: #E2EBFA;\n",
              "      box-shadow: 0px 1px 2px rgba(60, 64, 67, 0.3), 0px 1px 3px 1px rgba(60, 64, 67, 0.15);\n",
              "      fill: #174EA6;\n",
              "    }\n",
              "\n",
              "    .colab-df-buttons div {\n",
              "      margin-bottom: 4px;\n",
              "    }\n",
              "\n",
              "    [theme=dark] .colab-df-convert {\n",
              "      background-color: #3B4455;\n",
              "      fill: #D2E3FC;\n",
              "    }\n",
              "\n",
              "    [theme=dark] .colab-df-convert:hover {\n",
              "      background-color: #434B5C;\n",
              "      box-shadow: 0px 1px 3px 1px rgba(0, 0, 0, 0.15);\n",
              "      filter: drop-shadow(0px 1px 2px rgba(0, 0, 0, 0.3));\n",
              "      fill: #FFFFFF;\n",
              "    }\n",
              "  </style>\n",
              "\n",
              "    <script>\n",
              "      const buttonEl =\n",
              "        document.querySelector('#df-6da4b44f-3496-4a9b-8599-7d9947801046 button.colab-df-convert');\n",
              "      buttonEl.style.display =\n",
              "        google.colab.kernel.accessAllowed ? 'block' : 'none';\n",
              "\n",
              "      async function convertToInteractive(key) {\n",
              "        const element = document.querySelector('#df-6da4b44f-3496-4a9b-8599-7d9947801046');\n",
              "        const dataTable =\n",
              "          await google.colab.kernel.invokeFunction('convertToInteractive',\n",
              "                                                    [key], {});\n",
              "        if (!dataTable) return;\n",
              "\n",
              "        const docLinkHtml = 'Like what you see? Visit the ' +\n",
              "          '<a target=\"_blank\" href=https://colab.research.google.com/notebooks/data_table.ipynb>data table notebook</a>'\n",
              "          + ' to learn more about interactive tables.';\n",
              "        element.innerHTML = '';\n",
              "        dataTable['output_type'] = 'display_data';\n",
              "        await google.colab.output.renderOutput(dataTable, element);\n",
              "        const docLink = document.createElement('div');\n",
              "        docLink.innerHTML = docLinkHtml;\n",
              "        element.appendChild(docLink);\n",
              "      }\n",
              "    </script>\n",
              "  </div>\n",
              "\n",
              "\n",
              "<div id=\"df-9d548021-a398-4e67-9dc1-fbab54feafb6\">\n",
              "  <button class=\"colab-df-quickchart\" onclick=\"quickchart('df-9d548021-a398-4e67-9dc1-fbab54feafb6')\"\n",
              "            title=\"Suggest charts\"\n",
              "            style=\"display:none;\">\n",
              "\n",
              "<svg xmlns=\"http://www.w3.org/2000/svg\" height=\"24px\"viewBox=\"0 0 24 24\"\n",
              "     width=\"24px\">\n",
              "    <g>\n",
              "        <path d=\"M19 3H5c-1.1 0-2 .9-2 2v14c0 1.1.9 2 2 2h14c1.1 0 2-.9 2-2V5c0-1.1-.9-2-2-2zM9 17H7v-7h2v7zm4 0h-2V7h2v10zm4 0h-2v-4h2v4z\"/>\n",
              "    </g>\n",
              "</svg>\n",
              "  </button>\n",
              "\n",
              "<style>\n",
              "  .colab-df-quickchart {\n",
              "      --bg-color: #E8F0FE;\n",
              "      --fill-color: #1967D2;\n",
              "      --hover-bg-color: #E2EBFA;\n",
              "      --hover-fill-color: #174EA6;\n",
              "      --disabled-fill-color: #AAA;\n",
              "      --disabled-bg-color: #DDD;\n",
              "  }\n",
              "\n",
              "  [theme=dark] .colab-df-quickchart {\n",
              "      --bg-color: #3B4455;\n",
              "      --fill-color: #D2E3FC;\n",
              "      --hover-bg-color: #434B5C;\n",
              "      --hover-fill-color: #FFFFFF;\n",
              "      --disabled-bg-color: #3B4455;\n",
              "      --disabled-fill-color: #666;\n",
              "  }\n",
              "\n",
              "  .colab-df-quickchart {\n",
              "    background-color: var(--bg-color);\n",
              "    border: none;\n",
              "    border-radius: 50%;\n",
              "    cursor: pointer;\n",
              "    display: none;\n",
              "    fill: var(--fill-color);\n",
              "    height: 32px;\n",
              "    padding: 0;\n",
              "    width: 32px;\n",
              "  }\n",
              "\n",
              "  .colab-df-quickchart:hover {\n",
              "    background-color: var(--hover-bg-color);\n",
              "    box-shadow: 0 1px 2px rgba(60, 64, 67, 0.3), 0 1px 3px 1px rgba(60, 64, 67, 0.15);\n",
              "    fill: var(--button-hover-fill-color);\n",
              "  }\n",
              "\n",
              "  .colab-df-quickchart-complete:disabled,\n",
              "  .colab-df-quickchart-complete:disabled:hover {\n",
              "    background-color: var(--disabled-bg-color);\n",
              "    fill: var(--disabled-fill-color);\n",
              "    box-shadow: none;\n",
              "  }\n",
              "\n",
              "  .colab-df-spinner {\n",
              "    border: 2px solid var(--fill-color);\n",
              "    border-color: transparent;\n",
              "    border-bottom-color: var(--fill-color);\n",
              "    animation:\n",
              "      spin 1s steps(1) infinite;\n",
              "  }\n",
              "\n",
              "  @keyframes spin {\n",
              "    0% {\n",
              "      border-color: transparent;\n",
              "      border-bottom-color: var(--fill-color);\n",
              "      border-left-color: var(--fill-color);\n",
              "    }\n",
              "    20% {\n",
              "      border-color: transparent;\n",
              "      border-left-color: var(--fill-color);\n",
              "      border-top-color: var(--fill-color);\n",
              "    }\n",
              "    30% {\n",
              "      border-color: transparent;\n",
              "      border-left-color: var(--fill-color);\n",
              "      border-top-color: var(--fill-color);\n",
              "      border-right-color: var(--fill-color);\n",
              "    }\n",
              "    40% {\n",
              "      border-color: transparent;\n",
              "      border-right-color: var(--fill-color);\n",
              "      border-top-color: var(--fill-color);\n",
              "    }\n",
              "    60% {\n",
              "      border-color: transparent;\n",
              "      border-right-color: var(--fill-color);\n",
              "    }\n",
              "    80% {\n",
              "      border-color: transparent;\n",
              "      border-right-color: var(--fill-color);\n",
              "      border-bottom-color: var(--fill-color);\n",
              "    }\n",
              "    90% {\n",
              "      border-color: transparent;\n",
              "      border-bottom-color: var(--fill-color);\n",
              "    }\n",
              "  }\n",
              "</style>\n",
              "\n",
              "  <script>\n",
              "    async function quickchart(key) {\n",
              "      const quickchartButtonEl =\n",
              "        document.querySelector('#' + key + ' button');\n",
              "      quickchartButtonEl.disabled = true;  // To prevent multiple clicks.\n",
              "      quickchartButtonEl.classList.add('colab-df-spinner');\n",
              "      try {\n",
              "        const charts = await google.colab.kernel.invokeFunction(\n",
              "            'suggestCharts', [key], {});\n",
              "      } catch (error) {\n",
              "        console.error('Error during call to suggestCharts:', error);\n",
              "      }\n",
              "      quickchartButtonEl.classList.remove('colab-df-spinner');\n",
              "      quickchartButtonEl.classList.add('colab-df-quickchart-complete');\n",
              "    }\n",
              "    (() => {\n",
              "      let quickchartButtonEl =\n",
              "        document.querySelector('#df-9d548021-a398-4e67-9dc1-fbab54feafb6 button');\n",
              "      quickchartButtonEl.style.display =\n",
              "        google.colab.kernel.accessAllowed ? 'block' : 'none';\n",
              "    })();\n",
              "  </script>\n",
              "</div>\n",
              "    </div>\n",
              "  </div>\n"
            ]
          },
          "metadata": {},
          "execution_count": 4
        }
      ]
    },
    {
      "cell_type": "code",
      "execution_count": 5,
      "metadata": {
        "colab": {
          "base_uri": "https://localhost:8080/"
        },
        "id": "eDdSscMSR1eN",
        "outputId": "56e1da4d-8db5-43ad-e115-9201b0d6a6ce"
      },
      "outputs": [
        {
          "output_type": "execute_result",
          "data": {
            "text/plain": [
              "1258"
            ]
          },
          "metadata": {},
          "execution_count": 5
        }
      ],
      "source": [
        "len(df)"
      ]
    },
    {
      "cell_type": "code",
      "execution_count": 6,
      "metadata": {
        "colab": {
          "base_uri": "https://localhost:8080/",
          "height": 466
        },
        "id": "Q2qxl30a4I4t",
        "outputId": "c3db4c3a-5ea6-4f0a-d0db-339259938457"
      },
      "outputs": [
        {
          "output_type": "execute_result",
          "data": {
            "text/plain": [
              "<Axes: xlabel='Date'>"
            ]
          },
          "metadata": {},
          "execution_count": 6
        },
        {
          "output_type": "display_data",
          "data": {
            "text/plain": [
              "<Figure size 640x480 with 1 Axes>"
            ],
            "image/png": "[encoded data removed]"
          },
          "metadata": {}
        }
      ],
      "source": [
        "df['Open'].plot()"
      ]
    },
    {
      "cell_type": "code",
      "execution_count": 7,
      "metadata": {
        "id": "RK81tq1_25G3"
      },
      "outputs": [],
      "source": [
        "b_size=32\n",
        "epoch=200\n",
        "train_per=0.8\n",
        "w_size=30\n",
        "f_size=10"
      ]
    },
    {
      "cell_type": "code",
      "execution_count": 8,
      "metadata": {
        "id": "dWSsWQy50BwE"
      },
      "outputs": [],
      "source": [
        "t_size=int(len(df)*train_per)"
      ]
    },
    {
      "cell_type": "markdown",
      "metadata": {
        "id": "p8LvLU881z7N"
      },
      "source": [
        "Normalization"
      ]
    },
    {
      "cell_type": "code",
      "execution_count": 9,
      "metadata": {
        "id": "LJ7YMSBStPNM"
      },
      "outputs": [],
      "source": [
        "sc = MinMaxScaler(feature_range = (0, 1))\n"
      ]
    },
    {
      "cell_type": "markdown",
      "metadata": {
        "id": "zwlcPbuA2A7l"
      },
      "source": [
        "Create target values"
      ]
    },
    {
      "cell_type": "code",
      "execution_count": 10,
      "metadata": {
        "id": "Jqn4TbrntTND"
      },
      "outputs": [],
      "source": [
        "data_train = df.iloc[:t_size, 1:2].values\n",
        "data_test = df.iloc[t_size:, 1:2].values\n",
        "data_total = df.iloc[:,1:2]#open price\n",
        "sc = MinMaxScaler(feature_range = (0, 1))\n",
        "training_scaled = sc.fit_transform(data_train)\n",
        "\n",
        "#Train Data\n",
        "x_train = []\n",
        "y_train = []\n",
        "for iter in range(w_size, t_size):\n",
        "    x_train.append(training_scaled[iter-w_size:iter, 0])\n",
        "    y_train.append(training_scaled[iter, 0])\n",
        "x_train, y_train=np.array(x_train), np.array(y_train)\n",
        "x_train = np.reshape(x_train, (x_train.shape[0], x_train.shape[1], 1))\n",
        "\n",
        "\n",
        "#Test data\n",
        "total_input = data_total[len(data_total) - len(data_test) - w_size:].values\n",
        "total_input = total_input.reshape(-1, 1)\n",
        "total_input = sc.transform(total_input)\n",
        "x_test = []\n",
        "y_test=[]\n",
        "\n",
        "# Calculate the maximum number of blocks of length w_size that can be created\n",
        "blocks = len(total_input) - w_size\n",
        "\n",
        "for iter in range(blocks):\n",
        "    x_test.append(total_input[iter:iter+w_size, 0])\n",
        "    y_test.append(total_input[iter+w_size, 0])     #new addition\n",
        "\n",
        "x_test = np.array(x_test)\n",
        "x_test = np.reshape(x_test, (x_test.shape[0], x_test.shape[1], 1))\n"
      ]
    },
    {
      "cell_type": "markdown",
      "metadata": {
        "id": "idmIa7JD2HfM"
      },
      "source": [
        "Defining Model"
      ]
    },
    {
      "cell_type": "code",
      "execution_count": 17,
      "metadata": {
        "id": "ge-_0DnftYkY"
      },
      "outputs": [],
      "source": [
        "initializer = RandomNormal(mean=0.0, stddev=0.05, seed=5)\n",
        "algo = Sequential()\n",
        "algo.add(Bidirectional(LSTM(60,return_sequences=True,activation='relu',input_shape = (x_train.shape[1], 1),kernel_initializer=initializer)))\n",
        "algo.add(Dropout(0.2))\n",
        "algo.add(Bidirectional(LSTM(60)))\n",
        "algo.add(Dense(1))\n",
        "algo.compile(optimizer = 'adam', loss = 'mean_squared_error')\n",
        "\n"
      ]
    },
    {
      "cell_type": "markdown",
      "metadata": {
        "id": "sIfnU-c42LJD"
      },
      "source": [
        "Training Model"
      ]
    },
    {
      "cell_type": "code",
      "execution_count": 18,
      "metadata": {
        "id": "Cxu3p_R91KM3",
        "colab": {
          "base_uri": "https://localhost:8080/"
        },
        "outputId": "e5571c6f-c022-460c-d369-622915457b80"
      },
      "outputs": [
        {
          "output_type": "stream",
          "name": "stdout",
          "text": [
            "Epoch 1/200\n",
            "26/26 - 50s - loss: 0.0619 - val_loss: 0.0046 - 50s/epoch - 2s/step\n",
            "Epoch 2/200\n",
            "26/26 - 1s - loss: 0.0030 - val_loss: 0.0046 - 1s/epoch - 54ms/step\n",
            "Epoch 3/200\n",
            "26/26 - 1s - loss: 0.0020 - val_loss: 0.0045 - 1s/epoch - 54ms/step\n",
            "Epoch 4/200\n",
            "26/26 - 1s - loss: 0.0017 - val_loss: 0.0050 - 1s/epoch - 55ms/step\n",
            "Epoch 5/200\n",
            "26/26 - 1s - loss: 0.0015 - val_loss: 0.0044 - 1s/epoch - 54ms/step\n",
            "Epoch 6/200\n",
            "26/26 - 1s - loss: 0.0015 - val_loss: 0.0039 - 1s/epoch - 54ms/step\n",
            "Epoch 7/200\n",
            "26/26 - 2s - loss: 0.0014 - val_loss: 0.0038 - 2s/epoch - 63ms/step\n",
            "Epoch 8/200\n",
            "26/26 - 3s - loss: 0.0014 - val_loss: 0.0030 - 3s/epoch - 101ms/step\n",
            "Epoch 9/200\n",
            "26/26 - 2s - loss: 0.0014 - val_loss: 0.0052 - 2s/epoch - 72ms/step\n",
            "Epoch 10/200\n",
            "26/26 - 1s - loss: 0.0013 - val_loss: 0.0034 - 1s/epoch - 54ms/step\n",
            "Epoch 11/200\n",
            "26/26 - 1s - loss: 0.0011 - val_loss: 0.0025 - 1s/epoch - 54ms/step\n",
            "Epoch 12/200\n",
            "26/26 - 1s - loss: 0.0014 - val_loss: 0.0024 - 1s/epoch - 54ms/step\n",
            "Epoch 13/200\n",
            "26/26 - 1s - loss: 0.0012 - val_loss: 0.0043 - 1s/epoch - 54ms/step\n",
            "Epoch 14/200\n",
            "26/26 - 1s - loss: 0.0012 - val_loss: 0.0021 - 1s/epoch - 54ms/step\n",
            "Epoch 15/200\n",
            "26/26 - 1s - loss: 9.7081e-04 - val_loss: 0.0024 - 1s/epoch - 53ms/step\n",
            "Epoch 16/200\n",
            "26/26 - 2s - loss: 8.5755e-04 - val_loss: 0.0018 - 2s/epoch - 75ms/step\n",
            "Epoch 17/200\n",
            "26/26 - 3s - loss: 9.5694e-04 - val_loss: 0.0017 - 3s/epoch - 100ms/step\n",
            "Epoch 18/200\n",
            "26/26 - 2s - loss: 9.1410e-04 - val_loss: 0.0016 - 2s/epoch - 59ms/step\n",
            "Epoch 19/200\n",
            "26/26 - 1s - loss: 9.2760e-04 - val_loss: 0.0023 - 1s/epoch - 54ms/step\n",
            "Epoch 20/200\n",
            "26/26 - 1s - loss: 0.0012 - val_loss: 0.0023 - 1s/epoch - 54ms/step\n",
            "Epoch 21/200\n",
            "26/26 - 1s - loss: 0.0011 - val_loss: 0.0022 - 1s/epoch - 54ms/step\n",
            "Epoch 22/200\n",
            "26/26 - 1s - loss: 8.5081e-04 - val_loss: 0.0017 - 1s/epoch - 55ms/step\n",
            "Epoch 23/200\n",
            "26/26 - 1s - loss: 8.3915e-04 - val_loss: 0.0018 - 1s/epoch - 54ms/step\n",
            "Epoch 24/200\n",
            "26/26 - 1s - loss: 7.5893e-04 - val_loss: 0.0014 - 1s/epoch - 55ms/step\n",
            "Epoch 25/200\n",
            "26/26 - 2s - loss: 8.0265e-04 - val_loss: 0.0014 - 2s/epoch - 91ms/step\n",
            "Epoch 26/200\n",
            "26/26 - 2s - loss: 7.1737e-04 - val_loss: 0.0015 - 2s/epoch - 91ms/step\n",
            "Epoch 27/200\n",
            "26/26 - 1s - loss: 7.7159e-04 - val_loss: 0.0013 - 1s/epoch - 54ms/step\n",
            "Epoch 28/200\n",
            "26/26 - 1s - loss: 7.7967e-04 - val_loss: 0.0030 - 1s/epoch - 54ms/step\n",
            "Epoch 29/200\n",
            "26/26 - 1s - loss: 7.7931e-04 - val_loss: 0.0013 - 1s/epoch - 55ms/step\n",
            "Epoch 30/200\n",
            "26/26 - 1s - loss: 6.9428e-04 - val_loss: 0.0013 - 1s/epoch - 55ms/step\n",
            "Epoch 31/200\n",
            "26/26 - 1s - loss: 6.5255e-04 - val_loss: 0.0012 - 1s/epoch - 54ms/step\n",
            "Epoch 32/200\n",
            "26/26 - 1s - loss: 7.2482e-04 - val_loss: 0.0013 - 1s/epoch - 54ms/step\n",
            "Epoch 33/200\n",
            "26/26 - 3s - loss: 6.7146e-04 - val_loss: 0.0013 - 3s/epoch - 100ms/step\n",
            "Epoch 34/200\n",
            "26/26 - 3s - loss: 7.6225e-04 - val_loss: 0.0019 - 3s/epoch - 97ms/step\n",
            "Epoch 35/200\n",
            "26/26 - 2s - loss: 9.4036e-04 - val_loss: 0.0012 - 2s/epoch - 60ms/step\n",
            "Epoch 36/200\n",
            "26/26 - 1s - loss: 7.6646e-04 - val_loss: 0.0013 - 1s/epoch - 55ms/step\n",
            "Epoch 37/200\n",
            "26/26 - 1s - loss: 8.1288e-04 - val_loss: 0.0012 - 1s/epoch - 56ms/step\n",
            "Epoch 38/200\n",
            "26/26 - 1s - loss: 7.7837e-04 - val_loss: 0.0022 - 1s/epoch - 54ms/step\n",
            "Epoch 39/200\n",
            "26/26 - 1s - loss: 6.9770e-04 - val_loss: 0.0012 - 1s/epoch - 55ms/step\n",
            "Epoch 40/200\n",
            "26/26 - 1s - loss: 6.3446e-04 - val_loss: 0.0015 - 1s/epoch - 56ms/step\n",
            "Epoch 41/200\n",
            "26/26 - 1s - loss: 6.4689e-04 - val_loss: 0.0011 - 1s/epoch - 54ms/step\n",
            "Epoch 42/200\n",
            "26/26 - 2s - loss: 7.1778e-04 - val_loss: 0.0013 - 2s/epoch - 94ms/step\n",
            "Epoch 43/200\n",
            "26/26 - 2s - loss: 7.6088e-04 - val_loss: 0.0013 - 2s/epoch - 87ms/step\n",
            "Epoch 44/200\n",
            "26/26 - 1s - loss: 8.1626e-04 - val_loss: 0.0012 - 1s/epoch - 54ms/step\n",
            "Epoch 45/200\n",
            "26/26 - 1s - loss: 8.8791e-04 - val_loss: 0.0026 - 1s/epoch - 55ms/step\n",
            "Epoch 46/200\n",
            "26/26 - 1s - loss: 7.7167e-04 - val_loss: 0.0011 - 1s/epoch - 55ms/step\n",
            "Epoch 47/200\n",
            "26/26 - 1s - loss: 6.9565e-04 - val_loss: 0.0012 - 1s/epoch - 54ms/step\n",
            "Epoch 48/200\n",
            "26/26 - 1s - loss: 7.8014e-04 - val_loss: 0.0011 - 1s/epoch - 55ms/step\n",
            "Epoch 49/200\n",
            "26/26 - 1s - loss: 6.6926e-04 - val_loss: 0.0014 - 1s/epoch - 54ms/step\n",
            "Epoch 50/200\n",
            "26/26 - 2s - loss: 5.6941e-04 - val_loss: 0.0011 - 2s/epoch - 64ms/step\n",
            "Epoch 51/200\n",
            "26/26 - 3s - loss: 5.4869e-04 - val_loss: 0.0012 - 3s/epoch - 99ms/step\n",
            "Epoch 52/200\n",
            "26/26 - 2s - loss: 5.5137e-04 - val_loss: 0.0012 - 2s/epoch - 74ms/step\n",
            "Epoch 53/200\n",
            "26/26 - 1s - loss: 6.1179e-04 - val_loss: 0.0010 - 1s/epoch - 54ms/step\n",
            "Epoch 54/200\n",
            "26/26 - 1s - loss: 5.8898e-04 - val_loss: 0.0011 - 1s/epoch - 55ms/step\n",
            "Epoch 55/200\n",
            "26/26 - 1s - loss: 5.8424e-04 - val_loss: 0.0011 - 1s/epoch - 54ms/step\n",
            "Epoch 56/200\n",
            "26/26 - 1s - loss: 5.7105e-04 - val_loss: 0.0013 - 1s/epoch - 55ms/step\n",
            "Epoch 57/200\n",
            "26/26 - 1s - loss: 5.4712e-04 - val_loss: 0.0012 - 1s/epoch - 55ms/step\n",
            "Epoch 58/200\n",
            "26/26 - 1s - loss: 6.3214e-04 - val_loss: 0.0014 - 1s/epoch - 54ms/step\n",
            "Epoch 59/200\n",
            "26/26 - 2s - loss: 6.1274e-04 - val_loss: 9.7438e-04 - 2s/epoch - 80ms/step\n",
            "Epoch 60/200\n",
            "26/26 - 3s - loss: 5.7889e-04 - val_loss: 9.5149e-04 - 3s/epoch - 99ms/step\n",
            "Epoch 61/200\n",
            "26/26 - 1s - loss: 5.7316e-04 - val_loss: 0.0013 - 1s/epoch - 57ms/step\n",
            "Epoch 62/200\n",
            "26/26 - 1s - loss: 5.7260e-04 - val_loss: 9.4258e-04 - 1s/epoch - 55ms/step\n",
            "Epoch 63/200\n",
            "26/26 - 1s - loss: 5.2920e-04 - val_loss: 9.2468e-04 - 1s/epoch - 55ms/step\n",
            "Epoch 64/200\n",
            "26/26 - 1s - loss: 6.1538e-04 - val_loss: 0.0013 - 1s/epoch - 55ms/step\n",
            "Epoch 65/200\n",
            "26/26 - 1s - loss: 6.0587e-04 - val_loss: 0.0013 - 1s/epoch - 55ms/step\n",
            "Epoch 66/200\n",
            "26/26 - 2s - loss: 7.7574e-04 - val_loss: 0.0012 - 2s/epoch - 65ms/step\n",
            "Epoch 67/200\n",
            "26/26 - 2s - loss: 5.7677e-04 - val_loss: 9.1929e-04 - 2s/epoch - 61ms/step\n",
            "Epoch 68/200\n",
            "26/26 - 3s - loss: 6.0198e-04 - val_loss: 0.0015 - 3s/epoch - 101ms/step\n",
            "Epoch 69/200\n",
            "26/26 - 2s - loss: 6.3516e-04 - val_loss: 9.5170e-04 - 2s/epoch - 74ms/step\n",
            "Epoch 70/200\n",
            "26/26 - 1s - loss: 5.1847e-04 - val_loss: 8.8120e-04 - 1s/epoch - 55ms/step\n",
            "Epoch 71/200\n",
            "26/26 - 1s - loss: 5.3440e-04 - val_loss: 0.0011 - 1s/epoch - 55ms/step\n",
            "Epoch 72/200\n",
            "26/26 - 1s - loss: 5.5794e-04 - val_loss: 0.0012 - 1s/epoch - 55ms/step\n",
            "Epoch 73/200\n",
            "26/26 - 1s - loss: 6.4051e-04 - val_loss: 0.0011 - 1s/epoch - 54ms/step\n",
            "Epoch 74/200\n",
            "26/26 - 1s - loss: 5.9973e-04 - val_loss: 8.8245e-04 - 1s/epoch - 54ms/step\n",
            "Epoch 75/200\n",
            "26/26 - 1s - loss: 4.9656e-04 - val_loss: 8.6487e-04 - 1s/epoch - 55ms/step\n",
            "Epoch 76/200\n",
            "26/26 - 2s - loss: 5.1175e-04 - val_loss: 8.4176e-04 - 2s/epoch - 75ms/step\n",
            "Epoch 77/200\n",
            "26/26 - 3s - loss: 4.9358e-04 - val_loss: 8.4378e-04 - 3s/epoch - 99ms/step\n",
            "Epoch 78/200\n",
            "26/26 - 2s - loss: 5.1387e-04 - val_loss: 0.0011 - 2s/epoch - 61ms/step\n",
            "Epoch 79/200\n",
            "26/26 - 1s - loss: 4.6932e-04 - val_loss: 8.2779e-04 - 1s/epoch - 54ms/step\n",
            "Epoch 80/200\n",
            "26/26 - 1s - loss: 5.2293e-04 - val_loss: 8.1936e-04 - 1s/epoch - 55ms/step\n",
            "Epoch 81/200\n",
            "26/26 - 1s - loss: 4.5955e-04 - val_loss: 0.0011 - 1s/epoch - 55ms/step\n",
            "Epoch 82/200\n",
            "26/26 - 1s - loss: 4.8771e-04 - val_loss: 8.4155e-04 - 1s/epoch - 54ms/step\n",
            "Epoch 83/200\n",
            "26/26 - 1s - loss: 4.8587e-04 - val_loss: 8.6616e-04 - 1s/epoch - 54ms/step\n",
            "Epoch 84/200\n",
            "26/26 - 1s - loss: 4.8323e-04 - val_loss: 8.2007e-04 - 1s/epoch - 55ms/step\n",
            "Epoch 85/200\n",
            "26/26 - 2s - loss: 4.3379e-04 - val_loss: 8.1648e-04 - 2s/epoch - 92ms/step\n",
            "Epoch 86/200\n",
            "26/26 - 3s - loss: 4.9745e-04 - val_loss: 9.2112e-04 - 3s/epoch - 111ms/step\n",
            "Epoch 87/200\n",
            "26/26 - 1s - loss: 5.2400e-04 - val_loss: 8.3146e-04 - 1s/epoch - 54ms/step\n",
            "Epoch 88/200\n",
            "26/26 - 1s - loss: 4.4222e-04 - val_loss: 8.9935e-04 - 1s/epoch - 55ms/step\n",
            "Epoch 89/200\n",
            "26/26 - 1s - loss: 5.5835e-04 - val_loss: 0.0013 - 1s/epoch - 54ms/step\n",
            "Epoch 90/200\n",
            "26/26 - 1s - loss: 5.8928e-04 - val_loss: 9.7189e-04 - 1s/epoch - 56ms/step\n",
            "Epoch 91/200\n",
            "26/26 - 1s - loss: 4.9411e-04 - val_loss: 9.9721e-04 - 1s/epoch - 54ms/step\n",
            "Epoch 92/200\n",
            "26/26 - 1s - loss: 5.7367e-04 - val_loss: 0.0019 - 1s/epoch - 54ms/step\n",
            "Epoch 93/200\n",
            "26/26 - 2s - loss: 5.9984e-04 - val_loss: 0.0013 - 2s/epoch - 80ms/step\n",
            "Epoch 94/200\n",
            "26/26 - 3s - loss: 5.5405e-04 - val_loss: 0.0018 - 3s/epoch - 99ms/step\n",
            "Epoch 95/200\n",
            "26/26 - 2s - loss: 5.3113e-04 - val_loss: 0.0016 - 2s/epoch - 59ms/step\n",
            "Epoch 96/200\n",
            "26/26 - 1s - loss: 6.8092e-04 - val_loss: 0.0011 - 1s/epoch - 55ms/step\n",
            "Epoch 97/200\n",
            "26/26 - 1s - loss: 4.3641e-04 - val_loss: 7.7955e-04 - 1s/epoch - 54ms/step\n",
            "Epoch 98/200\n",
            "26/26 - 1s - loss: 4.4240e-04 - val_loss: 9.3053e-04 - 1s/epoch - 54ms/step\n",
            "Epoch 99/200\n",
            "26/26 - 1s - loss: 4.9617e-04 - val_loss: 7.7316e-04 - 1s/epoch - 55ms/step\n",
            "Epoch 100/200\n",
            "26/26 - 1s - loss: 4.2309e-04 - val_loss: 7.6684e-04 - 1s/epoch - 54ms/step\n",
            "Epoch 101/200\n",
            "26/26 - 1s - loss: 4.1886e-04 - val_loss: 8.7110e-04 - 1s/epoch - 55ms/step\n",
            "Epoch 102/200\n",
            "26/26 - 2s - loss: 4.6476e-04 - val_loss: 7.4352e-04 - 2s/epoch - 94ms/step\n",
            "Epoch 103/200\n",
            "26/26 - 2s - loss: 4.5597e-04 - val_loss: 9.2782e-04 - 2s/epoch - 88ms/step\n",
            "Epoch 104/200\n",
            "26/26 - 1s - loss: 4.6308e-04 - val_loss: 8.0866e-04 - 1s/epoch - 54ms/step\n",
            "Epoch 105/200\n",
            "26/26 - 1s - loss: 4.3380e-04 - val_loss: 7.3398e-04 - 1s/epoch - 54ms/step\n",
            "Epoch 106/200\n",
            "26/26 - 1s - loss: 4.2741e-04 - val_loss: 7.3363e-04 - 1s/epoch - 55ms/step\n",
            "Epoch 107/200\n",
            "26/26 - 1s - loss: 4.4013e-04 - val_loss: 9.4877e-04 - 1s/epoch - 54ms/step\n",
            "Epoch 108/200\n",
            "26/26 - 1s - loss: 4.7723e-04 - val_loss: 8.5062e-04 - 1s/epoch - 54ms/step\n",
            "Epoch 109/200\n",
            "26/26 - 1s - loss: 4.3466e-04 - val_loss: 7.6540e-04 - 1s/epoch - 54ms/step\n",
            "Epoch 110/200\n",
            "26/26 - 2s - loss: 4.1625e-04 - val_loss: 7.1669e-04 - 2s/epoch - 66ms/step\n",
            "Epoch 111/200\n",
            "26/26 - 3s - loss: 4.1604e-04 - val_loss: 0.0011 - 3s/epoch - 102ms/step\n",
            "Epoch 112/200\n",
            "26/26 - 2s - loss: 4.4282e-04 - val_loss: 7.1337e-04 - 2s/epoch - 72ms/step\n",
            "Epoch 113/200\n",
            "26/26 - 1s - loss: 4.4005e-04 - val_loss: 7.1083e-04 - 1s/epoch - 55ms/step\n",
            "Epoch 114/200\n",
            "26/26 - 1s - loss: 4.0630e-04 - val_loss: 8.1999e-04 - 1s/epoch - 55ms/step\n",
            "Epoch 115/200\n",
            "26/26 - 1s - loss: 4.1998e-04 - val_loss: 6.8489e-04 - 1s/epoch - 54ms/step\n",
            "Epoch 116/200\n",
            "26/26 - 1s - loss: 4.0481e-04 - val_loss: 0.0011 - 1s/epoch - 54ms/step\n",
            "Epoch 117/200\n",
            "26/26 - 1s - loss: 3.8762e-04 - val_loss: 8.0395e-04 - 1s/epoch - 57ms/step\n",
            "Epoch 118/200\n",
            "26/26 - 1s - loss: 4.5947e-04 - val_loss: 6.9782e-04 - 1s/epoch - 55ms/step\n",
            "Epoch 119/200\n",
            "26/26 - 2s - loss: 4.5597e-04 - val_loss: 8.4927e-04 - 2s/epoch - 81ms/step\n",
            "Epoch 120/200\n",
            "26/26 - 3s - loss: 3.8072e-04 - val_loss: 7.1298e-04 - 3s/epoch - 99ms/step\n",
            "Epoch 121/200\n",
            "26/26 - 1s - loss: 3.7173e-04 - val_loss: 6.9156e-04 - 1s/epoch - 55ms/step\n",
            "Epoch 122/200\n",
            "26/26 - 1s - loss: 4.5872e-04 - val_loss: 7.8666e-04 - 1s/epoch - 57ms/step\n",
            "Epoch 123/200\n",
            "26/26 - 1s - loss: 5.6867e-04 - val_loss: 7.2906e-04 - 1s/epoch - 55ms/step\n",
            "Epoch 124/200\n",
            "26/26 - 1s - loss: 4.5228e-04 - val_loss: 0.0012 - 1s/epoch - 54ms/step\n",
            "Epoch 125/200\n",
            "26/26 - 1s - loss: 4.0100e-04 - val_loss: 6.9975e-04 - 1s/epoch - 55ms/step\n",
            "Epoch 126/200\n",
            "26/26 - 1s - loss: 3.7784e-04 - val_loss: 7.3861e-04 - 1s/epoch - 54ms/step\n",
            "Epoch 127/200\n",
            "26/26 - 1s - loss: 3.7959e-04 - val_loss: 6.7646e-04 - 1s/epoch - 57ms/step\n",
            "Epoch 128/200\n",
            "26/26 - 3s - loss: 4.6593e-04 - val_loss: 6.8505e-04 - 3s/epoch - 102ms/step\n",
            "Epoch 129/200\n",
            "26/26 - 2s - loss: 4.6229e-04 - val_loss: 7.0197e-04 - 2s/epoch - 78ms/step\n",
            "Epoch 130/200\n",
            "26/26 - 1s - loss: 4.1951e-04 - val_loss: 6.6647e-04 - 1s/epoch - 55ms/step\n",
            "Epoch 131/200\n",
            "26/26 - 1s - loss: 3.7793e-04 - val_loss: 8.1590e-04 - 1s/epoch - 54ms/step\n",
            "Epoch 132/200\n",
            "26/26 - 1s - loss: 3.9208e-04 - val_loss: 6.8228e-04 - 1s/epoch - 55ms/step\n",
            "Epoch 133/200\n",
            "26/26 - 1s - loss: 3.6921e-04 - val_loss: 8.4022e-04 - 1s/epoch - 54ms/step\n",
            "Epoch 134/200\n",
            "26/26 - 1s - loss: 3.7215e-04 - val_loss: 0.0011 - 1s/epoch - 54ms/step\n",
            "Epoch 135/200\n",
            "26/26 - 1s - loss: 4.0243e-04 - val_loss: 0.0013 - 1s/epoch - 54ms/step\n",
            "Epoch 136/200\n",
            "26/26 - 2s - loss: 4.6605e-04 - val_loss: 7.6691e-04 - 2s/epoch - 73ms/step\n",
            "Epoch 137/200\n",
            "26/26 - 3s - loss: 3.6327e-04 - val_loss: 6.5319e-04 - 3s/epoch - 98ms/step\n",
            "Epoch 138/200\n",
            "26/26 - 2s - loss: 4.5168e-04 - val_loss: 6.9414e-04 - 2s/epoch - 65ms/step\n",
            "Epoch 139/200\n",
            "26/26 - 1s - loss: 3.7158e-04 - val_loss: 6.7443e-04 - 1s/epoch - 54ms/step\n",
            "Epoch 140/200\n",
            "26/26 - 1s - loss: 4.1145e-04 - val_loss: 6.6237e-04 - 1s/epoch - 55ms/step\n",
            "Epoch 141/200\n",
            "26/26 - 1s - loss: 4.1893e-04 - val_loss: 0.0012 - 1s/epoch - 54ms/step\n",
            "Epoch 142/200\n",
            "26/26 - 1s - loss: 3.4431e-04 - val_loss: 7.0189e-04 - 1s/epoch - 54ms/step\n",
            "Epoch 143/200\n",
            "26/26 - 1s - loss: 3.7035e-04 - val_loss: 0.0012 - 1s/epoch - 55ms/step\n",
            "Epoch 144/200\n",
            "26/26 - 1s - loss: 4.1179e-04 - val_loss: 7.1043e-04 - 1s/epoch - 54ms/step\n",
            "Epoch 145/200\n",
            "26/26 - 2s - loss: 3.3468e-04 - val_loss: 6.7994e-04 - 2s/epoch - 90ms/step\n",
            "Epoch 146/200\n",
            "26/26 - 2s - loss: 4.6980e-04 - val_loss: 9.5732e-04 - 2s/epoch - 93ms/step\n",
            "Epoch 147/200\n",
            "26/26 - 1s - loss: 5.1422e-04 - val_loss: 6.8406e-04 - 1s/epoch - 54ms/step\n",
            "Epoch 148/200\n",
            "26/26 - 1s - loss: 3.8369e-04 - val_loss: 6.8580e-04 - 1s/epoch - 54ms/step\n",
            "Epoch 149/200\n",
            "26/26 - 1s - loss: 3.9071e-04 - val_loss: 9.5255e-04 - 1s/epoch - 56ms/step\n",
            "Epoch 150/200\n",
            "26/26 - 1s - loss: 3.6154e-04 - val_loss: 6.5648e-04 - 1s/epoch - 55ms/step\n",
            "Epoch 151/200\n",
            "26/26 - 1s - loss: 3.6803e-04 - val_loss: 6.5788e-04 - 1s/epoch - 55ms/step\n",
            "Epoch 152/200\n",
            "26/26 - 1s - loss: 3.4891e-04 - val_loss: 7.2328e-04 - 1s/epoch - 55ms/step\n",
            "Epoch 153/200\n",
            "26/26 - 2s - loss: 3.3966e-04 - val_loss: 6.6180e-04 - 2s/epoch - 61ms/step\n",
            "Epoch 154/200\n",
            "26/26 - 3s - loss: 4.4679e-04 - val_loss: 7.5281e-04 - 3s/epoch - 101ms/step\n",
            "Epoch 155/200\n",
            "26/26 - 2s - loss: 3.8147e-04 - val_loss: 7.8023e-04 - 2s/epoch - 75ms/step\n",
            "Epoch 156/200\n",
            "26/26 - 1s - loss: 3.5903e-04 - val_loss: 8.8040e-04 - 1s/epoch - 54ms/step\n",
            "Epoch 157/200\n",
            "26/26 - 1s - loss: 3.5651e-04 - val_loss: 6.2667e-04 - 1s/epoch - 55ms/step\n",
            "Epoch 158/200\n",
            "26/26 - 1s - loss: 4.8187e-04 - val_loss: 0.0013 - 1s/epoch - 54ms/step\n",
            "Epoch 159/200\n",
            "26/26 - 1s - loss: 4.3670e-04 - val_loss: 8.1027e-04 - 1s/epoch - 55ms/step\n",
            "Epoch 160/200\n",
            "26/26 - 1s - loss: 3.2811e-04 - val_loss: 8.4762e-04 - 1s/epoch - 55ms/step\n",
            "Epoch 161/200\n",
            "26/26 - 1s - loss: 3.8679e-04 - val_loss: 6.8030e-04 - 1s/epoch - 55ms/step\n",
            "Epoch 162/200\n",
            "26/26 - 2s - loss: 3.6420e-04 - val_loss: 0.0011 - 2s/epoch - 82ms/step\n",
            "Epoch 163/200\n",
            "26/26 - 3s - loss: 3.5394e-04 - val_loss: 6.9151e-04 - 3s/epoch - 99ms/step\n",
            "Epoch 164/200\n",
            "26/26 - 1s - loss: 3.7830e-04 - val_loss: 6.1926e-04 - 1s/epoch - 57ms/step\n",
            "Epoch 165/200\n",
            "26/26 - 1s - loss: 3.7742e-04 - val_loss: 6.4438e-04 - 1s/epoch - 56ms/step\n",
            "Epoch 166/200\n",
            "26/26 - 1s - loss: 3.5346e-04 - val_loss: 6.2309e-04 - 1s/epoch - 55ms/step\n",
            "Epoch 167/200\n",
            "26/26 - 2s - loss: 3.7906e-04 - val_loss: 6.6363e-04 - 2s/epoch - 58ms/step\n",
            "Epoch 168/200\n",
            "26/26 - 1s - loss: 3.4030e-04 - val_loss: 6.3866e-04 - 1s/epoch - 55ms/step\n",
            "Epoch 169/200\n",
            "26/26 - 1s - loss: 3.7549e-04 - val_loss: 6.6443e-04 - 1s/epoch - 54ms/step\n",
            "Epoch 170/200\n",
            "26/26 - 1s - loss: 3.7814e-04 - val_loss: 6.2339e-04 - 1s/epoch - 54ms/step\n",
            "Epoch 171/200\n",
            "26/26 - 3s - loss: 3.4999e-04 - val_loss: 6.3101e-04 - 3s/epoch - 100ms/step\n",
            "Epoch 172/200\n",
            "26/26 - 2s - loss: 3.3607e-04 - val_loss: 6.2264e-04 - 2s/epoch - 82ms/step\n",
            "Epoch 173/200\n",
            "26/26 - 1s - loss: 3.0753e-04 - val_loss: 9.5622e-04 - 1s/epoch - 55ms/step\n",
            "Epoch 174/200\n",
            "26/26 - 1s - loss: 3.8402e-04 - val_loss: 6.9277e-04 - 1s/epoch - 54ms/step\n",
            "Epoch 175/200\n",
            "26/26 - 1s - loss: 4.7672e-04 - val_loss: 0.0010 - 1s/epoch - 54ms/step\n",
            "Epoch 176/200\n",
            "26/26 - 1s - loss: 3.2167e-04 - val_loss: 6.0925e-04 - 1s/epoch - 55ms/step\n",
            "Epoch 177/200\n",
            "26/26 - 1s - loss: 3.2330e-04 - val_loss: 5.9252e-04 - 1s/epoch - 54ms/step\n",
            "Epoch 178/200\n",
            "26/26 - 1s - loss: 3.4216e-04 - val_loss: 8.6843e-04 - 1s/epoch - 54ms/step\n",
            "Epoch 179/200\n",
            "26/26 - 2s - loss: 3.9653e-04 - val_loss: 6.4077e-04 - 2s/epoch - 67ms/step\n",
            "Epoch 180/200\n",
            "26/26 - 3s - loss: 3.9635e-04 - val_loss: 8.6479e-04 - 3s/epoch - 100ms/step\n",
            "Epoch 181/200\n",
            "26/26 - 2s - loss: 3.9034e-04 - val_loss: 8.2540e-04 - 2s/epoch - 69ms/step\n",
            "Epoch 182/200\n",
            "26/26 - 1s - loss: 4.4319e-04 - val_loss: 5.8292e-04 - 1s/epoch - 55ms/step\n",
            "Epoch 183/200\n",
            "26/26 - 1s - loss: 3.1766e-04 - val_loss: 5.8623e-04 - 1s/epoch - 54ms/step\n",
            "Epoch 184/200\n",
            "26/26 - 1s - loss: 3.5912e-04 - val_loss: 6.0425e-04 - 1s/epoch - 56ms/step\n",
            "Epoch 185/200\n",
            "26/26 - 1s - loss: 3.4368e-04 - val_loss: 5.8015e-04 - 1s/epoch - 54ms/step\n",
            "Epoch 186/200\n",
            "26/26 - 1s - loss: 3.6818e-04 - val_loss: 6.2383e-04 - 1s/epoch - 54ms/step\n",
            "Epoch 187/200\n",
            "26/26 - 1s - loss: 2.9259e-04 - val_loss: 5.7621e-04 - 1s/epoch - 55ms/step\n",
            "Epoch 188/200\n",
            "26/26 - 2s - loss: 3.3800e-04 - val_loss: 6.9783e-04 - 2s/epoch - 84ms/step\n",
            "Epoch 189/200\n",
            "26/26 - 3s - loss: 3.2892e-04 - val_loss: 5.8233e-04 - 3s/epoch - 98ms/step\n",
            "Epoch 190/200\n",
            "26/26 - 1s - loss: 3.1878e-04 - val_loss: 6.9342e-04 - 1s/epoch - 55ms/step\n",
            "Epoch 191/200\n",
            "26/26 - 1s - loss: 3.1597e-04 - val_loss: 9.4133e-04 - 1s/epoch - 54ms/step\n",
            "Epoch 192/200\n",
            "26/26 - 1s - loss: 3.3569e-04 - val_loss: 5.8858e-04 - 1s/epoch - 55ms/step\n",
            "Epoch 193/200\n",
            "26/26 - 1s - loss: 3.5267e-04 - val_loss: 5.6706e-04 - 1s/epoch - 54ms/step\n",
            "Epoch 194/200\n",
            "26/26 - 1s - loss: 3.4901e-04 - val_loss: 8.9743e-04 - 1s/epoch - 54ms/step\n",
            "Epoch 195/200\n",
            "26/26 - 1s - loss: 3.7816e-04 - val_loss: 9.7090e-04 - 1s/epoch - 55ms/step\n",
            "Epoch 196/200\n",
            "26/26 - 1s - loss: 3.2781e-04 - val_loss: 7.0046e-04 - 1s/epoch - 55ms/step\n",
            "Epoch 197/200\n",
            "26/26 - 3s - loss: 3.7037e-04 - val_loss: 5.9018e-04 - 3s/epoch - 101ms/step\n",
            "Epoch 198/200\n",
            "26/26 - 2s - loss: 3.2027e-04 - val_loss: 6.1705e-04 - 2s/epoch - 81ms/step\n",
            "Epoch 199/200\n",
            "26/26 - 1s - loss: 3.4627e-04 - val_loss: 5.7543e-04 - 1s/epoch - 54ms/step\n",
            "Epoch 200/200\n",
            "26/26 - 1s - loss: 3.2180e-04 - val_loss: 6.1353e-04 - 1s/epoch - 55ms/step\n"
          ]
        },
        {
          "output_type": "execute_result",
          "data": {
            "text/plain": [
              "<keras.src.callbacks.History at 0x788c4f294760>"
            ]
          },
          "metadata": {},
          "execution_count": 18
        }
      ],
      "source": [
        "algo.fit(x_train, y_train, epochs = epoch, batch_size = b_size, validation_split=0.15,verbose=2)"
      ]
    },
    {
      "cell_type": "markdown",
      "metadata": {
        "id": "zOWs78qQ2jPr"
      },
      "source": [
        "Dividing Test values into groups"
      ]
    },
    {
      "cell_type": "markdown",
      "metadata": {
        "id": "lfyn1RBR3euR"
      },
      "source": [
        "Prediction"
      ]
    },
    {
      "cell_type": "code",
      "execution_count": 19,
      "metadata": {
        "id": "5P0XAidPv3LL",
        "colab": {
          "base_uri": "https://localhost:8080/"
        },
        "outputId": "bfc86b33-efd3-478e-d9c1-85532fd0dded"
      },
      "outputs": [
        {
          "output_type": "stream",
          "name": "stdout",
          "text": [
            "8/8 [==============================] - 2s 16ms/step\n"
          ]
        }
      ],
      "source": [
        "\n",
        "predicted_price = algo.predict(x_test)\n",
        "predicted_price = sc.inverse_transform(predicted_price)\n"
      ]
    },
    {
      "cell_type": "code",
      "execution_count": 20,
      "metadata": {
        "id": "DDgPWTIPtjpO",
        "colab": {
          "base_uri": "https://localhost:8080/",
          "height": 472
        },
        "outputId": "76008264-98bb-481f-856a-999ba9526016"
      },
      "outputs": [
        {
          "output_type": "display_data",
          "data": {
            "text/plain": [
              "<Figure size 640x480 with 1 Axes>"
            ],
            "image/png": "[encoded data removed]"
          },
          "metadata": {}
        }
      ],
      "source": [
        "df.reset_index(inplace=True)\n",
        "plt.plot(df.loc[:t_size+1,'Date'],df.loc[:t_size+1,'Open'], color='green',label=\"Train data\")\n",
        "plt.plot(df.loc[t_size:, 'Date'],data_test, color = 'red', label = 'Test Data')\n",
        "plt.plot(df.loc[t_size:, 'Date'],predicted_price, color = 'blue', label = 'Predicted Data')\n",
        "plt.xticks(np.arange(0,df.shape[0],250))\n",
        "plt.title('Stock Price Prediction')\n",
        "plt.xlabel('Time')\n",
        "plt.ylabel('Stock Price')\n",
        "plt.legend()\n",
        "plt.show()\n"
      ]
    },
    {
      "cell_type": "code",
      "source": [
        "plt.plot(df.loc[:t_size+1,'Date'],df.loc[:t_size+1,'Open'], color='green',label=\"Train data\")\n",
        "\n",
        "plt.xticks(np.arange(0,df.shape[0],250))\n",
        "plt.title('Stock Price Prediction')\n",
        "plt.xlabel('Time')\n",
        "plt.ylabel('Stock Price')\n",
        "plt.legend()\n",
        "plt.show()"
      ],
      "metadata": {
        "id": "koE--2Oq97-R",
        "colab": {
          "base_uri": "https://localhost:8080/",
          "height": 472
        },
        "outputId": "77b6939b-76c2-4034-9fd6-aac049408fb7"
      },
      "execution_count": 21,
      "outputs": [
        {
          "output_type": "display_data",
          "data": {
            "text/plain": [
              "<Figure size 640x480 with 1 Axes>"
            ],
            "image/png": "[encoded data removed]"
          },
          "metadata": {}
        }
      ]
    },
    {
      "cell_type": "code",
      "execution_count": 22,
      "metadata": {
        "id": "YOW8ZJqapQyO",
        "colab": {
          "base_uri": "https://localhost:8080/",
          "height": 472
        },
        "outputId": "2a122f82-f0da-449b-995d-5cc138549e3f"
      },
      "outputs": [
        {
          "output_type": "display_data",
          "data": {
            "text/plain": [
              "<Figure size 640x480 with 1 Axes>"
            ],
            "image/png": "[encoded data removed]"
          },
          "metadata": {}
        }
      ],
      "source": [
        "plt.plot(df.loc[t_size:, 'Date'],data_test, color = 'red', label = 'Test Data')\n",
        "plt.plot(df.loc[t_size:, 'Date'],predicted_price, color = 'blue', label = 'Predicted Data')\n",
        "plt.xticks(np.arange(0,x_test.shape[0],50))\n",
        "plt.title('Stock Price Prediction')\n",
        "plt.xlabel('Time')\n",
        "plt.ylabel('Stock Price')\n",
        "plt.legend()\n",
        "plt.show()\n"
      ]
    },
    {
      "cell_type": "code",
      "execution_count": 23,
      "metadata": {
        "id": "T7VDO5Gdc61y",
        "colab": {
          "base_uri": "https://localhost:8080/"
        },
        "outputId": "657e3de6-4a0e-40d3-e969-88db34d3055f"
      },
      "outputs": [
        {
          "output_type": "stream",
          "name": "stdout",
          "text": [
            "Mean Absolute Error (MAE): 3.83\n",
            "Mean Squared Error (MSE): 22.39\n",
            "Root Mean Squared Error (RMSE): 4.73\n"
          ]
        }
      ],
      "source": [
        "from sklearn.metrics import mean_absolute_error, mean_squared_error\n",
        "import numpy as np\n",
        "\n",
        "mae = mean_absolute_error(data_test,predicted_price)\n",
        "\n",
        "mse = mean_squared_error(data_test, predicted_price)\n",
        "\n",
        "rmse = np.sqrt(mse)\n",
        "\n",
        "print(f'Mean Absolute Error (MAE): {mae:.2f}')\n",
        "print(f'Mean Squared Error (MSE): {mse:.2f}')\n",
        "print(f'Root Mean Squared Error (RMSE): {rmse:.2f}')\n"
      ]
    },
    {
      "cell_type": "markdown",
      "metadata": {
        "id": "ULYvRxI86Zu4"
      },
      "source": [
        "Predict Future"
      ]
    },
    {
      "cell_type": "code",
      "execution_count": null,
      "metadata": {
        "id": "oZxynIRRdex6"
      },
      "outputs": [],
      "source": [
        "test2=data_test.copy()\n",
        "for i in range(f_size):\n",
        "  X=test2[-w_size:]\n",
        "  X=X.reshape(w_size,1)\n",
        "  X=sc.fit_transform(X)\n",
        "\n",
        "  X=np.reshape(X,(1,w_size,1))\n",
        "\n",
        "  close=algo.predict(X)\n",
        "  y=sc.inverse_transform(close)\n",
        "\n",
        "  test2=np.append(test2, y)\n"
      ]
    },
    {
      "cell_type": "code",
      "execution_count": null,
      "metadata": {
        "id": "4Xy46Mt_7AoQ"
      },
      "outputs": [],
      "source": [
        "from datetime import datetime, timedelta\n",
        "x=df.loc[-1:, 'Date']\n",
        "day=x[len(x)-1]\n",
        "date_obj = datetime.strptime(day, '%Y-%m-%d')\n",
        "start_date = date_obj\n",
        "date_list = [(start_date + timedelta(days=i)).strftime('%Y-%m-%d') for i in range(f_size)]"
      ]
    },
    {
      "cell_type": "code",
      "execution_count": null,
      "metadata": {
        "id": "gXOVA5eNhYSY"
      },
      "outputs": [],
      "source": [
        "forcasted_data=test2[-f_size:]\n",
        "plt.plot(date_list,forcasted_data,color=\"#123692\", label=\"Future data\")\n",
        "plt.xticks(np.arange(0,len(forcasted_data),f_size))\n",
        "plt.show()"
      ]
    },
    {
      "cell_type": "code",
      "execution_count": null,
      "metadata": {
        "id": "SJndMvo-qqDd"
      },
      "outputs": [],
      "source": [
        "\n",
        "plt.plot(df.loc[:t_size,'Date'],df.loc[:t_size,'Open'], color='green',label=\"Train data\")\n",
        "plt.plot(df.loc[t_size:, 'Date'],data_test, color = 'red', label = 'Test Data')\n",
        "plt.plot(df.loc[t_size:, 'Date'],predicted_price, color = 'blue', label = 'Predicted Data')\n",
        "plt.plot(date_list,forcasted_data,color='yellow', label=\"Future data\")\n",
        "plt.xticks(np.arange(0,df.shape[0],250))\n",
        "plt.title('Stock Price Prediction')\n",
        "plt.xlabel('Time')\n",
        "plt.ylabel('Stock Price')\n",
        "plt.legend()\n",
        "plt.show()"
      ]
    },
    {
      "cell_type": "code",
      "execution_count": null,
      "metadata": {
        "id": "vJO38KFrrT4t"
      },
      "outputs": [],
      "source": [
        "plt.plot(df.loc[t_size:, 'Date'],data_test, color = 'red', label = 'Test Data')\n",
        "plt.plot(df.loc[t_size:, 'Date'],predicted_price, color = 'blue', label = 'Predicted Data')\n",
        "plt.plot(date_list,forcasted_data,color='yellow', label=\"Future data\")\n",
        "plt.xticks(np.arange(0,x_test.shape[0],50))\n",
        "plt.title('Stock Price Prediction')\n",
        "plt.xlabel('Time')\n",
        "plt.ylabel('Stock Price')\n",
        "plt.legend()\n",
        "plt.show()"
      ]
    },
    {
      "cell_type": "code",
      "source": [
        "algo2 = Sequential()\n",
        "algo2.add(Bidirectional(LSTM(60,return_sequences=True,activation='relu',input_shape = (x_train.shape[1], 1),kernel_initializer=initializer)))\n",
        "algo2.add(Dropout(0.2))\n",
        "algo2.add(Bidirectional(LSTM(60)))\n",
        "algo2.add(Dense(1))\n",
        "algo2.compile(optimizer = 'adam', loss = 'mean_squared_error')"
      ],
      "metadata": {
        "id": "18du3d-oGvsi"
      },
      "execution_count": null,
      "outputs": []
    },
    {
      "cell_type": "code",
      "source": [
        "algo2.fit(x_train, y_train, epochs = 50, batch_size = b_size, validation_split=0.15,verbose=2)"
      ],
      "metadata": {
        "id": "hZMU5dJHG0cx"
      },
      "execution_count": null,
      "outputs": []
    },
    {
      "cell_type": "code",
      "source": [
        "predicted_price2 = algo2.predict(x_test)\n",
        "predicted_price2 = sc.inverse_transform(predicted_price2)"
      ],
      "metadata": {
        "id": "dCbxIcPvWDlx"
      },
      "execution_count": null,
      "outputs": []
    },
    {
      "cell_type": "code",
      "source": [
        "mae_2 = mean_absolute_error(data_test,predicted_price2)\n",
        "\n",
        "mse_2 = mean_squared_error(data_test, predicted_price2)\n",
        "\n",
        "rmse_2 = np.sqrt(mse_2)\n",
        "\n",
        "print(f'Mean Absolute Error (MAE): {mae_2:.2f}')\n",
        "print(f'Mean Squared Error (MSE): {mse_2:.2f}')\n",
        "print(f'Root Mean Squared Error (RMSE): {rmse_2:.2f}')"
      ],
      "metadata": {
        "id": "Cc5B1_1kWEdS"
      },
      "execution_count": null,
      "outputs": []
    },
    {
      "cell_type": "code",
      "source": [
        "algo3 = Sequential()\n",
        "algo3.add(Bidirectional(LSTM(30,return_sequences=True,activation='relu',input_shape = (x_train.shape[1], 1),kernel_initializer=initializer)))\n",
        "algo3.add(Dropout(0.2))\n",
        "algo3.add(Bidirectional(LSTM(120)))\n",
        "algo3.add(Dense(1))\n",
        "algo3.compile(optimizer = 'adam', loss = 'mean_squared_error')\n",
        "algo3.fit(x_train, y_train, epochs = 75, batch_size = b_size, validation_split=0.15,verbose=2)"
      ],
      "metadata": {
        "id": "R_boE3TdfPJy"
      },
      "execution_count": null,
      "outputs": []
    },
    {
      "cell_type": "code",
      "source": [
        "predicted_price3 = algo3.predict(x_test)\n",
        "predicted_price3 = sc.inverse_transform(predicted_price3)"
      ],
      "metadata": {
        "id": "_aLUqxFgfpY2"
      },
      "execution_count": null,
      "outputs": []
    },
    {
      "cell_type": "code",
      "source": [
        "mae_3 = mean_absolute_error(data_test,predicted_price3)\n",
        "\n",
        "mse_3 = mean_squared_error(data_test, predicted_price3)\n",
        "\n",
        "rmse_3 = np.sqrt(mse_3)\n",
        "\n",
        "print(f'Mean Absolute Error (MAE): {mae_3:.2f}')\n",
        "print(f'Mean Squared Error (MSE): {mse_3:.2f}')\n",
        "print(f'Root Mean Squared Error (RMSE): {rmse_3:.2f}')"
      ],
      "metadata": {
        "id": "LgyU7TZrfuOi"
      },
      "execution_count": null,
      "outputs": []
    }
  ],
  "metadata": {
    "colab": {
      "provenance": [],
      "include_colab_link": true
    },
    "kernelspec": {
      "display_name": "Python 3",
      "name": "python3"
    },
    "language_info": {
      "name": "python"
    }
  },
  "nbformat": 4,
  "nbformat_minor": 0
}