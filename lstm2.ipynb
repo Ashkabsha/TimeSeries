{
  "nbformat": 4,
  "nbformat_minor": 0,
  "metadata": {
    "colab": {
      "provenance": [],
      "authorship_tag": "ABX9TyPzWOLoH61FTIF5c4buWjxC",
      "include_colab_link": true
    },
    "kernelspec": {
      "name": "python3",
      "display_name": "Python 3"
    },
    "language_info": {
      "name": "python"
    }
  },
  "cells": [
    {
      "cell_type": "markdown",
      "metadata": {
        "id": "view-in-github",
        "colab_type": "text"
      },
      "source": [
        "<a href=\"https://colab.research.google.com/github/Ashkabsha/TimeSeries/blob/main/lstm2.ipynb\" target=\"_parent\"><img src=\"https://colab.research.google.com/assets/colab-badge.svg\" alt=\"Open In Colab\"/></a>"
      ]
    },
    {
      "cell_type": "code",
      "execution_count": 8,
      "metadata": {
        "colab": {
          "base_uri": "https://localhost:8080/",
          "height": 363
        },
        "id": "v4t7z7Ets9Uz",
        "outputId": "b2598f8d-1fb4-4746-b0eb-7040a2f088b4"
      },
      "outputs": [
        {
          "output_type": "execute_result",
          "data": {
            "text/plain": [
              "         Date       Open       High        Low      Close  Adj Close  \\\n",
              "0  2018-09-12  18.762667  19.500000  18.576668  19.369333  19.369333   \n",
              "1  2018-09-13  19.201332  19.666668  19.011999  19.297333  19.297333   \n",
              "2  2018-09-14  19.250668  19.822001  19.101334  19.680000  19.680000   \n",
              "3  2018-09-17  19.336000  20.058001  19.208668  19.656000  19.656000   \n",
              "4  2018-09-18  19.779333  20.176001  18.366667  18.997334  18.997334   \n",
              "5  2018-09-19  18.700666  20.000000  18.700001  19.934668  19.934668   \n",
              "6  2018-09-20  20.237333  20.398666  19.555332  19.888666  19.888666   \n",
              "7  2018-09-21  19.846666  20.038668  19.691334  19.940001  19.940001   \n",
              "8  2018-09-24  19.898666  20.200001  19.572001  19.978666  19.978666   \n",
              "9  2018-09-25  20.000000  20.306667  19.766666  20.066000  20.066000   \n",
              "\n",
              "      Volume  \n",
              "0  150231000  \n",
              "1   95104500  \n",
              "2  101484000  \n",
              "3  103314000  \n",
              "4  248212500  \n",
              "5  124423500  \n",
              "6  110241000  \n",
              "7   75757500  \n",
              "8   72645000  \n",
              "9   67225500  "
            ],
            "text/html": [
              "\n",
              "  <div id=\"df-e002a321-d323-497d-83a8-a18da58a7eed\" class=\"colab-df-container\">\n",
              "    <div>\n",
              "<style scoped>\n",
              "    .dataframe tbody tr th:only-of-type {\n",
              "        vertical-align: middle;\n",
              "    }\n",
              "\n",
              "    .dataframe tbody tr th {\n",
              "        vertical-align: top;\n",
              "    }\n",
              "\n",
              "    .dataframe thead th {\n",
              "        text-align: right;\n",
              "    }\n",
              "</style>\n",
              "<table border=\"1\" class=\"dataframe\">\n",
              "  <thead>\n",
              "    <tr style=\"text-align: right;\">\n",
              "      <th></th>\n",
              "      <th>Date</th>\n",
              "      <th>Open</th>\n",
              "      <th>High</th>\n",
              "      <th>Low</th>\n",
              "      <th>Close</th>\n",
              "      <th>Adj Close</th>\n",
              "      <th>Volume</th>\n",
              "    </tr>\n",
              "  </thead>\n",
              "  <tbody>\n",
              "    <tr>\n",
              "      <th>0</th>\n",
              "      <td>2018-09-12</td>\n",
              "      <td>18.762667</td>\n",
              "      <td>19.500000</td>\n",
              "      <td>18.576668</td>\n",
              "      <td>19.369333</td>\n",
              "      <td>19.369333</td>\n",
              "      <td>150231000</td>\n",
              "    </tr>\n",
              "    <tr>\n",
              "      <th>1</th>\n",
              "      <td>2018-09-13</td>\n",
              "      <td>19.201332</td>\n",
              "      <td>19.666668</td>\n",
              "      <td>19.011999</td>\n",
              "      <td>19.297333</td>\n",
              "      <td>19.297333</td>\n",
              "      <td>95104500</td>\n",
              "    </tr>\n",
              "    <tr>\n",
              "      <th>2</th>\n",
              "      <td>2018-09-14</td>\n",
              "      <td>19.250668</td>\n",
              "      <td>19.822001</td>\n",
              "      <td>19.101334</td>\n",
              "      <td>19.680000</td>\n",
              "      <td>19.680000</td>\n",
              "      <td>101484000</td>\n",
              "    </tr>\n",
              "    <tr>\n",
              "      <th>3</th>\n",
              "      <td>2018-09-17</td>\n",
              "      <td>19.336000</td>\n",
              "      <td>20.058001</td>\n",
              "      <td>19.208668</td>\n",
              "      <td>19.656000</td>\n",
              "      <td>19.656000</td>\n",
              "      <td>103314000</td>\n",
              "    </tr>\n",
              "    <tr>\n",
              "      <th>4</th>\n",
              "      <td>2018-09-18</td>\n",
              "      <td>19.779333</td>\n",
              "      <td>20.176001</td>\n",
              "      <td>18.366667</td>\n",
              "      <td>18.997334</td>\n",
              "      <td>18.997334</td>\n",
              "      <td>248212500</td>\n",
              "    </tr>\n",
              "    <tr>\n",
              "      <th>5</th>\n",
              "      <td>2018-09-19</td>\n",
              "      <td>18.700666</td>\n",
              "      <td>20.000000</td>\n",
              "      <td>18.700001</td>\n",
              "      <td>19.934668</td>\n",
              "      <td>19.934668</td>\n",
              "      <td>124423500</td>\n",
              "    </tr>\n",
              "    <tr>\n",
              "      <th>6</th>\n",
              "      <td>2018-09-20</td>\n",
              "      <td>20.237333</td>\n",
              "      <td>20.398666</td>\n",
              "      <td>19.555332</td>\n",
              "      <td>19.888666</td>\n",
              "      <td>19.888666</td>\n",
              "      <td>110241000</td>\n",
              "    </tr>\n",
              "    <tr>\n",
              "      <th>7</th>\n",
              "      <td>2018-09-21</td>\n",
              "      <td>19.846666</td>\n",
              "      <td>20.038668</td>\n",
              "      <td>19.691334</td>\n",
              "      <td>19.940001</td>\n",
              "      <td>19.940001</td>\n",
              "      <td>75757500</td>\n",
              "    </tr>\n",
              "    <tr>\n",
              "      <th>8</th>\n",
              "      <td>2018-09-24</td>\n",
              "      <td>19.898666</td>\n",
              "      <td>20.200001</td>\n",
              "      <td>19.572001</td>\n",
              "      <td>19.978666</td>\n",
              "      <td>19.978666</td>\n",
              "      <td>72645000</td>\n",
              "    </tr>\n",
              "    <tr>\n",
              "      <th>9</th>\n",
              "      <td>2018-09-25</td>\n",
              "      <td>20.000000</td>\n",
              "      <td>20.306667</td>\n",
              "      <td>19.766666</td>\n",
              "      <td>20.066000</td>\n",
              "      <td>20.066000</td>\n",
              "      <td>67225500</td>\n",
              "    </tr>\n",
              "  </tbody>\n",
              "</table>\n",
              "</div>\n",
              "    <div class=\"colab-df-buttons\">\n",
              "\n",
              "  <div class=\"colab-df-container\">\n",
              "    <button class=\"colab-df-convert\" onclick=\"convertToInteractive('df-e002a321-d323-497d-83a8-a18da58a7eed')\"\n",
              "            title=\"Convert this dataframe to an interactive table.\"\n",
              "            style=\"display:none;\">\n",
              "\n",
              "  <svg xmlns=\"http://www.w3.org/2000/svg\" height=\"24px\" viewBox=\"0 -960 960 960\">\n",
              "    <path d=\"M120-120v-720h720v720H120Zm60-500h600v-160H180v160Zm220 220h160v-160H400v160Zm0 220h160v-160H400v160ZM180-400h160v-160H180v160Zm440 0h160v-160H620v160ZM180-180h160v-160H180v160Zm440 0h160v-160H620v160Z\"/>\n",
              "  </svg>\n",
              "    </button>\n",
              "\n",
              "  <style>\n",
              "    .colab-df-container {\n",
              "      display:flex;\n",
              "      gap: 12px;\n",
              "    }\n",
              "\n",
              "    .colab-df-convert {\n",
              "      background-color: #E8F0FE;\n",
              "      border: none;\n",
              "      border-radius: 50%;\n",
              "      cursor: pointer;\n",
              "      display: none;\n",
              "      fill: #1967D2;\n",
              "      height: 32px;\n",
              "      padding: 0 0 0 0;\n",
              "      width: 32px;\n",
              "    }\n",
              "\n",
              "    .colab-df-convert:hover {\n",
              "      background-color: #E2EBFA;\n",
              "      box-shadow: 0px 1px 2px rgba(60, 64, 67, 0.3), 0px 1px 3px 1px rgba(60, 64, 67, 0.15);\n",
              "      fill: #174EA6;\n",
              "    }\n",
              "\n",
              "    .colab-df-buttons div {\n",
              "      margin-bottom: 4px;\n",
              "    }\n",
              "\n",
              "    [theme=dark] .colab-df-convert {\n",
              "      background-color: #3B4455;\n",
              "      fill: #D2E3FC;\n",
              "    }\n",
              "\n",
              "    [theme=dark] .colab-df-convert:hover {\n",
              "      background-color: #434B5C;\n",
              "      box-shadow: 0px 1px 3px 1px rgba(0, 0, 0, 0.15);\n",
              "      filter: drop-shadow(0px 1px 2px rgba(0, 0, 0, 0.3));\n",
              "      fill: #FFFFFF;\n",
              "    }\n",
              "  </style>\n",
              "\n",
              "    <script>\n",
              "      const buttonEl =\n",
              "        document.querySelector('#df-e002a321-d323-497d-83a8-a18da58a7eed button.colab-df-convert');\n",
              "      buttonEl.style.display =\n",
              "        google.colab.kernel.accessAllowed ? 'block' : 'none';\n",
              "\n",
              "      async function convertToInteractive(key) {\n",
              "        const element = document.querySelector('#df-e002a321-d323-497d-83a8-a18da58a7eed');\n",
              "        const dataTable =\n",
              "          await google.colab.kernel.invokeFunction('convertToInteractive',\n",
              "                                                    [key], {});\n",
              "        if (!dataTable) return;\n",
              "\n",
              "        const docLinkHtml = 'Like what you see? Visit the ' +\n",
              "          '<a target=\"_blank\" href=https://colab.research.google.com/notebooks/data_table.ipynb>data table notebook</a>'\n",
              "          + ' to learn more about interactive tables.';\n",
              "        element.innerHTML = '';\n",
              "        dataTable['output_type'] = 'display_data';\n",
              "        await google.colab.output.renderOutput(dataTable, element);\n",
              "        const docLink = document.createElement('div');\n",
              "        docLink.innerHTML = docLinkHtml;\n",
              "        element.appendChild(docLink);\n",
              "      }\n",
              "    </script>\n",
              "  </div>\n",
              "\n",
              "\n",
              "<div id=\"df-59995bed-e31f-4662-9ba9-2a9c2244fba1\">\n",
              "  <button class=\"colab-df-quickchart\" onclick=\"quickchart('df-59995bed-e31f-4662-9ba9-2a9c2244fba1')\"\n",
              "            title=\"Suggest charts.\"\n",
              "            style=\"display:none;\">\n",
              "\n",
              "<svg xmlns=\"http://www.w3.org/2000/svg\" height=\"24px\"viewBox=\"0 0 24 24\"\n",
              "     width=\"24px\">\n",
              "    <g>\n",
              "        <path d=\"M19 3H5c-1.1 0-2 .9-2 2v14c0 1.1.9 2 2 2h14c1.1 0 2-.9 2-2V5c0-1.1-.9-2-2-2zM9 17H7v-7h2v7zm4 0h-2V7h2v10zm4 0h-2v-4h2v4z\"/>\n",
              "    </g>\n",
              "</svg>\n",
              "  </button>\n",
              "\n",
              "<style>\n",
              "  .colab-df-quickchart {\n",
              "      --bg-color: #E8F0FE;\n",
              "      --fill-color: #1967D2;\n",
              "      --hover-bg-color: #E2EBFA;\n",
              "      --hover-fill-color: #174EA6;\n",
              "      --disabled-fill-color: #AAA;\n",
              "      --disabled-bg-color: #DDD;\n",
              "  }\n",
              "\n",
              "  [theme=dark] .colab-df-quickchart {\n",
              "      --bg-color: #3B4455;\n",
              "      --fill-color: #D2E3FC;\n",
              "      --hover-bg-color: #434B5C;\n",
              "      --hover-fill-color: #FFFFFF;\n",
              "      --disabled-bg-color: #3B4455;\n",
              "      --disabled-fill-color: #666;\n",
              "  }\n",
              "\n",
              "  .colab-df-quickchart {\n",
              "    background-color: var(--bg-color);\n",
              "    border: none;\n",
              "    border-radius: 50%;\n",
              "    cursor: pointer;\n",
              "    display: none;\n",
              "    fill: var(--fill-color);\n",
              "    height: 32px;\n",
              "    padding: 0;\n",
              "    width: 32px;\n",
              "  }\n",
              "\n",
              "  .colab-df-quickchart:hover {\n",
              "    background-color: var(--hover-bg-color);\n",
              "    box-shadow: 0 1px 2px rgba(60, 64, 67, 0.3), 0 1px 3px 1px rgba(60, 64, 67, 0.15);\n",
              "    fill: var(--button-hover-fill-color);\n",
              "  }\n",
              "\n",
              "  .colab-df-quickchart-complete:disabled,\n",
              "  .colab-df-quickchart-complete:disabled:hover {\n",
              "    background-color: var(--disabled-bg-color);\n",
              "    fill: var(--disabled-fill-color);\n",
              "    box-shadow: none;\n",
              "  }\n",
              "\n",
              "  .colab-df-spinner {\n",
              "    border: 2px solid var(--fill-color);\n",
              "    border-color: transparent;\n",
              "    border-bottom-color: var(--fill-color);\n",
              "    animation:\n",
              "      spin 1s steps(1) infinite;\n",
              "  }\n",
              "\n",
              "  @keyframes spin {\n",
              "    0% {\n",
              "      border-color: transparent;\n",
              "      border-bottom-color: var(--fill-color);\n",
              "      border-left-color: var(--fill-color);\n",
              "    }\n",
              "    20% {\n",
              "      border-color: transparent;\n",
              "      border-left-color: var(--fill-color);\n",
              "      border-top-color: var(--fill-color);\n",
              "    }\n",
              "    30% {\n",
              "      border-color: transparent;\n",
              "      border-left-color: var(--fill-color);\n",
              "      border-top-color: var(--fill-color);\n",
              "      border-right-color: var(--fill-color);\n",
              "    }\n",
              "    40% {\n",
              "      border-color: transparent;\n",
              "      border-right-color: var(--fill-color);\n",
              "      border-top-color: var(--fill-color);\n",
              "    }\n",
              "    60% {\n",
              "      border-color: transparent;\n",
              "      border-right-color: var(--fill-color);\n",
              "    }\n",
              "    80% {\n",
              "      border-color: transparent;\n",
              "      border-right-color: var(--fill-color);\n",
              "      border-bottom-color: var(--fill-color);\n",
              "    }\n",
              "    90% {\n",
              "      border-color: transparent;\n",
              "      border-bottom-color: var(--fill-color);\n",
              "    }\n",
              "  }\n",
              "</style>\n",
              "\n",
              "  <script>\n",
              "    async function quickchart(key) {\n",
              "      const quickchartButtonEl =\n",
              "        document.querySelector('#' + key + ' button');\n",
              "      quickchartButtonEl.disabled = true;  // To prevent multiple clicks.\n",
              "      quickchartButtonEl.classList.add('colab-df-spinner');\n",
              "      try {\n",
              "        const charts = await google.colab.kernel.invokeFunction(\n",
              "            'suggestCharts', [key], {});\n",
              "      } catch (error) {\n",
              "        console.error('Error during call to suggestCharts:', error);\n",
              "      }\n",
              "      quickchartButtonEl.classList.remove('colab-df-spinner');\n",
              "      quickchartButtonEl.classList.add('colab-df-quickchart-complete');\n",
              "    }\n",
              "    (() => {\n",
              "      let quickchartButtonEl =\n",
              "        document.querySelector('#df-59995bed-e31f-4662-9ba9-2a9c2244fba1 button');\n",
              "      quickchartButtonEl.style.display =\n",
              "        google.colab.kernel.accessAllowed ? 'block' : 'none';\n",
              "    })();\n",
              "  </script>\n",
              "</div>\n",
              "    </div>\n",
              "  </div>\n"
            ]
          },
          "metadata": {},
          "execution_count": 8
        }
      ],
      "source": [
        "import pandas as pd\n",
        "import numpy as np\n",
        "from matplotlib import pyplot as plt\n",
        "from sklearn import model_selection\n",
        "from sklearn.metrics import confusion_matrix\n",
        "from sklearn.preprocessing import StandardScaler\n",
        "from sklearn.model_selection import train_test_split\n",
        "from sklearn.preprocessing import MinMaxScaler\n",
        "from keras.models import Sequential\n",
        "from keras.layers import Dense\n",
        "from keras.layers import LSTM\n",
        "from keras.layers import Dropout\n",
        "df=pd.read_csv(\"TSLA.csv\")\n",
        "df.head(10)"
      ]
    },
    {
      "cell_type": "code",
      "source": [
        "df['Open'].plot()"
      ],
      "metadata": {
        "colab": {
          "base_uri": "https://localhost:8080/",
          "height": 447
        },
        "id": "Q2qxl30a4I4t",
        "outputId": "229fcdbd-ed9e-40a6-e294-7efef914321b"
      },
      "execution_count": 9,
      "outputs": [
        {
          "output_type": "execute_result",
          "data": {
            "text/plain": [
              "<Axes: >"
            ]
          },
          "metadata": {},
          "execution_count": 9
        },
        {
          "output_type": "display_data",
          "data": {
            "text/plain": [
              "<Figure size 640x480 with 1 Axes>"
            ],
            "image/png": "[encoded data removed]"
          },
          "metadata": {}
        }
      ]
    },
    {
      "cell_type": "code",
      "source": [
        "training = df.iloc[:800, 1:2].values\n",
        "testing = df.iloc[800:, 1:2].values"
      ],
      "metadata": {
        "id": "Rz7SbBU7tLsy"
      },
      "execution_count": 10,
      "outputs": []
    },
    {
      "cell_type": "code",
      "source": [
        "sc = MinMaxScaler(feature_range = (0, 1))\n",
        "training_scaled = sc.fit_transform(training)"
      ],
      "metadata": {
        "id": "LJ7YMSBStPNM"
      },
      "execution_count": 11,
      "outputs": []
    },
    {
      "cell_type": "code",
      "source": [
        "#sc.inverse_transform(training_scaled[-60:, 0])"
      ],
      "metadata": {
        "id": "hdhPGfnbQ6_2"
      },
      "execution_count": 12,
      "outputs": []
    },
    {
      "cell_type": "code",
      "source": [
        "x_train = []\n",
        "y_train = []\n",
        "for iter in range(60, 800):\n",
        "    x_train.append(training_scaled[iter-60:iter, 0])\n",
        "    y_train.append(training_scaled[iter, 0])\n",
        "x_train, y_train=np.array(x_train), np.array(y_train)\n",
        "x_train = np.reshape(x_train, (x_train.shape[0], x_train.shape[1], 1))"
      ],
      "metadata": {
        "id": "Jqn4TbrntTND"
      },
      "execution_count": 13,
      "outputs": []
    },
    {
      "cell_type": "code",
      "source": [
        "algo = Sequential()\n",
        "algo.add(LSTM(units = 50, return_sequences = True, input_shape = (x_train.shape[1], 1)))\n",
        "algo.add(Dropout(0.2))\n",
        "algo.add(LSTM(units = 50, return_sequences = True))\n",
        "algo.add(Dropout(0.2))\n",
        "algo.add(LSTM(units = 50, return_sequences = True))\n",
        "algo.add(Dropout(0.2))\n",
        "algo.add(LSTM(units = 50))\n",
        "algo.add(Dropout(0.2))\n",
        "algo.add(Dense(units = 1))\n",
        "algo.compile(optimizer = 'adam', loss = 'mean_squared_error')\n",
        "algo.fit(x_train, y_train, epochs = 100, batch_size = 32)"
      ],
      "metadata": {
        "colab": {
          "base_uri": "https://localhost:8080/"
        },
        "id": "ge-_0DnftYkY",
        "outputId": "9b63c369-a3f2-48fa-bfb7-186994de5e54"
      },
      "execution_count": 14,
      "outputs": [
        {
          "output_type": "stream",
          "name": "stdout",
          "text": [
            "Epoch 1/100\n",
            "24/24 [==============================] - 8s 73ms/step - loss: 0.0267\n",
            "Epoch 2/100\n",
            "24/24 [==============================] - 2s 73ms/step - loss: 0.0053\n",
            "Epoch 3/100\n",
            "24/24 [==============================] - 2s 71ms/step - loss: 0.0043\n",
            "Epoch 4/100\n",
            "24/24 [==============================] - 2s 78ms/step - loss: 0.0043\n",
            "Epoch 5/100\n",
            "24/24 [==============================] - 2s 92ms/step - loss: 0.0036\n",
            "Epoch 6/100\n",
            "24/24 [==============================] - 2s 73ms/step - loss: 0.0046\n",
            "Epoch 7/100\n",
            "24/24 [==============================] - 2s 73ms/step - loss: 0.0039\n",
            "Epoch 8/100\n",
            "24/24 [==============================] - 2s 70ms/step - loss: 0.0034\n",
            "Epoch 9/100\n",
            "24/24 [==============================] - 2s 73ms/step - loss: 0.0033\n",
            "Epoch 10/100\n",
            "24/24 [==============================] - 2s 73ms/step - loss: 0.0033\n",
            "Epoch 11/100\n",
            "24/24 [==============================] - 2s 96ms/step - loss: 0.0037\n",
            "Epoch 12/100\n",
            "24/24 [==============================] - 2s 86ms/step - loss: 0.0032\n",
            "Epoch 13/100\n",
            "24/24 [==============================] - 2s 96ms/step - loss: 0.0039\n",
            "Epoch 14/100\n",
            "24/24 [==============================] - 2s 74ms/step - loss: 0.0025\n",
            "Epoch 15/100\n",
            "24/24 [==============================] - 2s 72ms/step - loss: 0.0025\n",
            "Epoch 16/100\n",
            "24/24 [==============================] - 2s 70ms/step - loss: 0.0027\n",
            "Epoch 17/100\n",
            "24/24 [==============================] - 2s 96ms/step - loss: 0.0038\n",
            "Epoch 18/100\n",
            "24/24 [==============================] - 2s 73ms/step - loss: 0.0030\n",
            "Epoch 19/100\n",
            "24/24 [==============================] - 2s 73ms/step - loss: 0.0029\n",
            "Epoch 20/100\n",
            "24/24 [==============================] - 2s 74ms/step - loss: 0.0028\n",
            "Epoch 21/100\n",
            "24/24 [==============================] - 2s 73ms/step - loss: 0.0019\n",
            "Epoch 22/100\n",
            "24/24 [==============================] - 2s 73ms/step - loss: 0.0021\n",
            "Epoch 23/100\n",
            "24/24 [==============================] - 2s 82ms/step - loss: 0.0029\n",
            "Epoch 24/100\n",
            "24/24 [==============================] - 2s 86ms/step - loss: 0.0021\n",
            "Epoch 25/100\n",
            "24/24 [==============================] - 2s 70ms/step - loss: 0.0021\n",
            "Epoch 26/100\n",
            "24/24 [==============================] - 2s 71ms/step - loss: 0.0026\n",
            "Epoch 27/100\n",
            "24/24 [==============================] - 2s 72ms/step - loss: 0.0023\n",
            "Epoch 28/100\n",
            "24/24 [==============================] - 2s 71ms/step - loss: 0.0024\n",
            "Epoch 29/100\n",
            "24/24 [==============================] - 2s 72ms/step - loss: 0.0025\n",
            "Epoch 30/100\n",
            "24/24 [==============================] - 3s 143ms/step - loss: 0.0029\n",
            "Epoch 31/100\n",
            "24/24 [==============================] - 2s 73ms/step - loss: 0.0017\n",
            "Epoch 32/100\n",
            "24/24 [==============================] - 2s 71ms/step - loss: 0.0018\n",
            "Epoch 33/100\n",
            "24/24 [==============================] - 2s 73ms/step - loss: 0.0018\n",
            "Epoch 34/100\n",
            "24/24 [==============================] - 2s 72ms/step - loss: 0.0020\n",
            "Epoch 35/100\n",
            "24/24 [==============================] - 2s 71ms/step - loss: 0.0017\n",
            "Epoch 36/100\n",
            "24/24 [==============================] - 2s 96ms/step - loss: 0.0021\n",
            "Epoch 37/100\n",
            "24/24 [==============================] - 2s 73ms/step - loss: 0.0018\n",
            "Epoch 38/100\n",
            "24/24 [==============================] - 2s 71ms/step - loss: 0.0022\n",
            "Epoch 39/100\n",
            "24/24 [==============================] - 2s 71ms/step - loss: 0.0020\n",
            "Epoch 40/100\n",
            "24/24 [==============================] - 2s 72ms/step - loss: 0.0018\n",
            "Epoch 41/100\n",
            "24/24 [==============================] - 2s 72ms/step - loss: 0.0015\n",
            "Epoch 42/100\n",
            "24/24 [==============================] - 2s 83ms/step - loss: 0.0020\n",
            "Epoch 43/100\n",
            "24/24 [==============================] - 2s 86ms/step - loss: 0.0017\n",
            "Epoch 44/100\n",
            "24/24 [==============================] - 2s 72ms/step - loss: 0.0015\n",
            "Epoch 45/100\n",
            "24/24 [==============================] - 2s 72ms/step - loss: 0.0018\n",
            "Epoch 46/100\n",
            "24/24 [==============================] - 2s 73ms/step - loss: 0.0017\n",
            "Epoch 47/100\n",
            "24/24 [==============================] - 2s 72ms/step - loss: 0.0017\n",
            "Epoch 48/100\n",
            "24/24 [==============================] - 2s 72ms/step - loss: 0.0015\n",
            "Epoch 49/100\n",
            "24/24 [==============================] - 2s 96ms/step - loss: 0.0024\n",
            "Epoch 50/100\n",
            "24/24 [==============================] - 2s 71ms/step - loss: 0.0017\n",
            "Epoch 51/100\n",
            "24/24 [==============================] - 2s 72ms/step - loss: 0.0017\n",
            "Epoch 52/100\n",
            "24/24 [==============================] - 2s 73ms/step - loss: 0.0015\n",
            "Epoch 53/100\n",
            "24/24 [==============================] - 2s 72ms/step - loss: 0.0019\n",
            "Epoch 54/100\n",
            "24/24 [==============================] - 2s 72ms/step - loss: 0.0016\n",
            "Epoch 55/100\n",
            "24/24 [==============================] - 2s 79ms/step - loss: 0.0014\n",
            "Epoch 56/100\n",
            "24/24 [==============================] - 2s 86ms/step - loss: 0.0013\n",
            "Epoch 57/100\n",
            "24/24 [==============================] - 2s 71ms/step - loss: 0.0018\n",
            "Epoch 58/100\n",
            "24/24 [==============================] - 2s 72ms/step - loss: 0.0015\n",
            "Epoch 59/100\n",
            "24/24 [==============================] - 2s 72ms/step - loss: 0.0014\n",
            "Epoch 60/100\n",
            "24/24 [==============================] - 2s 71ms/step - loss: 0.0016\n",
            "Epoch 61/100\n",
            "24/24 [==============================] - 2s 68ms/step - loss: 0.0016\n",
            "Epoch 62/100\n",
            "24/24 [==============================] - 2s 96ms/step - loss: 0.0014\n",
            "Epoch 63/100\n",
            "24/24 [==============================] - 2s 72ms/step - loss: 0.0016\n",
            "Epoch 64/100\n",
            "24/24 [==============================] - 2s 73ms/step - loss: 0.0012\n",
            "Epoch 65/100\n",
            "24/24 [==============================] - 2s 72ms/step - loss: 0.0014\n",
            "Epoch 66/100\n",
            "24/24 [==============================] - 2s 72ms/step - loss: 0.0015\n",
            "Epoch 67/100\n",
            "24/24 [==============================] - 2s 72ms/step - loss: 0.0014\n",
            "Epoch 68/100\n",
            "24/24 [==============================] - 2s 79ms/step - loss: 0.0014\n",
            "Epoch 69/100\n",
            "24/24 [==============================] - 2s 86ms/step - loss: 0.0013\n",
            "Epoch 70/100\n",
            "24/24 [==============================] - 2s 74ms/step - loss: 0.0014\n",
            "Epoch 71/100\n",
            "24/24 [==============================] - 2s 72ms/step - loss: 0.0014\n",
            "Epoch 72/100\n",
            "24/24 [==============================] - 2s 72ms/step - loss: 0.0012\n",
            "Epoch 73/100\n",
            "24/24 [==============================] - 2s 73ms/step - loss: 0.0012\n",
            "Epoch 74/100\n",
            "24/24 [==============================] - 2s 71ms/step - loss: 0.0012\n",
            "Epoch 75/100\n",
            "24/24 [==============================] - 2s 97ms/step - loss: 0.0014\n",
            "Epoch 76/100\n",
            "24/24 [==============================] - 2s 71ms/step - loss: 0.0013\n",
            "Epoch 77/100\n",
            "24/24 [==============================] - 2s 71ms/step - loss: 0.0014\n",
            "Epoch 78/100\n",
            "24/24 [==============================] - 2s 73ms/step - loss: 0.0011\n",
            "Epoch 79/100\n",
            "24/24 [==============================] - 2s 73ms/step - loss: 0.0014\n",
            "Epoch 80/100\n",
            "24/24 [==============================] - 2s 72ms/step - loss: 0.0013\n",
            "Epoch 81/100\n",
            "24/24 [==============================] - 2s 84ms/step - loss: 0.0012\n",
            "Epoch 82/100\n",
            "24/24 [==============================] - 2s 84ms/step - loss: 0.0015\n",
            "Epoch 83/100\n",
            "24/24 [==============================] - 2s 73ms/step - loss: 0.0012\n",
            "Epoch 84/100\n",
            "24/24 [==============================] - 2s 72ms/step - loss: 0.0012\n",
            "Epoch 85/100\n",
            "24/24 [==============================] - 2s 72ms/step - loss: 0.0012\n",
            "Epoch 86/100\n",
            "24/24 [==============================] - 2s 74ms/step - loss: 0.0011\n",
            "Epoch 87/100\n",
            "24/24 [==============================] - 2s 75ms/step - loss: 0.0013\n",
            "Epoch 88/100\n",
            "24/24 [==============================] - 2s 96ms/step - loss: 0.0017\n",
            "Epoch 89/100\n",
            "24/24 [==============================] - 2s 72ms/step - loss: 0.0011\n",
            "Epoch 90/100\n",
            "24/24 [==============================] - 2s 72ms/step - loss: 0.0013\n",
            "Epoch 91/100\n",
            "24/24 [==============================] - 2s 70ms/step - loss: 0.0013\n",
            "Epoch 92/100\n",
            "24/24 [==============================] - 2s 72ms/step - loss: 0.0013\n",
            "Epoch 93/100\n",
            "24/24 [==============================] - 2s 73ms/step - loss: 0.0011\n",
            "Epoch 94/100\n",
            "24/24 [==============================] - 2s 86ms/step - loss: 0.0012\n",
            "Epoch 95/100\n",
            "24/24 [==============================] - 2s 81ms/step - loss: 0.0013\n",
            "Epoch 96/100\n",
            "24/24 [==============================] - 2s 75ms/step - loss: 0.0013\n",
            "Epoch 97/100\n",
            "24/24 [==============================] - 2s 72ms/step - loss: 0.0022\n",
            "Epoch 98/100\n",
            "24/24 [==============================] - 2s 73ms/step - loss: 0.0016\n",
            "Epoch 99/100\n",
            "24/24 [==============================] - 2s 72ms/step - loss: 0.0015\n",
            "Epoch 100/100\n",
            "24/24 [==============================] - 2s 71ms/step - loss: 0.0012\n"
          ]
        },
        {
          "output_type": "execute_result",
          "data": {
            "text/plain": [
              "<keras.src.callbacks.History at 0x78cca5b61150>"
            ]
          },
          "metadata": {},
          "execution_count": 14
        }
      ]
    },
    {
      "cell_type": "code",
      "source": [
        "print(algo.summary())"
      ],
      "metadata": {
        "colab": {
          "base_uri": "https://localhost:8080/"
        },
        "id": "Cxu3p_R91KM3",
        "outputId": "08ea8595-e0b5-4531-9086-ef7031f959a1"
      },
      "execution_count": 15,
      "outputs": [
        {
          "output_type": "stream",
          "name": "stdout",
          "text": [
            "Model: \"sequential\"\n",
            "_________________________________________________________________\n",
            " Layer (type)                Output Shape              Param #   \n",
            "=================================================================\n",
            " lstm (LSTM)                 (None, 60, 50)            10400     \n",
            "                                                                 \n",
            " dropout (Dropout)           (None, 60, 50)            0         \n",
            "                                                                 \n",
            " lstm_1 (LSTM)               (None, 60, 50)            20200     \n",
            "                                                                 \n",
            " dropout_1 (Dropout)         (None, 60, 50)            0         \n",
            "                                                                 \n",
            " lstm_2 (LSTM)               (None, 60, 50)            20200     \n",
            "                                                                 \n",
            " dropout_2 (Dropout)         (None, 60, 50)            0         \n",
            "                                                                 \n",
            " lstm_3 (LSTM)               (None, 50)                20200     \n",
            "                                                                 \n",
            " dropout_3 (Dropout)         (None, 50)                0         \n",
            "                                                                 \n",
            " dense (Dense)               (None, 1)                 51        \n",
            "                                                                 \n",
            "=================================================================\n",
            "Total params: 71051 (277.54 KB)\n",
            "Trainable params: 71051 (277.54 KB)\n",
            "Non-trainable params: 0 (0.00 Byte)\n",
            "_________________________________________________________________\n",
            "None\n"
          ]
        }
      ]
    },
    {
      "cell_type": "code",
      "source": [
        "'''data_train = df.iloc[:800, 1:2]\n",
        "data_test = df.iloc[800:, 1:2]\n",
        "data_total = pd.concat((data_train, data_test), axis = 0)\n",
        "total_input = data_total[len(data_total) - len(data_test) - 60:].values\n",
        "total_input = total_input.reshape(-1,1)\n",
        "total_input = sc.transform(total_input)\n",
        "x_test = []\n",
        "for iter in range(60, 519):\n",
        "    x_test.append(total_input[iter-60:iter, 0])\n",
        "print(len(x_test[0]))\n",
        "x_test = np.array(x_test)\n",
        "print(x_test[0])\n",
        "x_test.shape'''"
      ],
      "metadata": {
        "colab": {
          "base_uri": "https://localhost:8080/",
          "height": 87
        },
        "id": "M7ti6CLhtbmc",
        "outputId": "0e6ae92c-f3ab-402f-c6f2-bc70bc1b0cda"
      },
      "execution_count": 16,
      "outputs": [
        {
          "output_type": "execute_result",
          "data": {
            "text/plain": [
              "'data_train = df.iloc[:800, 1:2]\\ndata_test = df.iloc[800:, 1:2]\\ndata_total = pd.concat((data_train, data_test), axis = 0)\\ntotal_input = data_total[len(data_total) - len(data_test) - 60:].values\\ntotal_input = total_input.reshape(-1,1)\\ntotal_input = sc.transform(total_input)\\nx_test = []\\nfor iter in range(60, 519):\\n    x_test.append(total_input[iter-60:iter, 0])\\nprint(len(x_test[0]))\\nx_test = np.array(x_test)\\nprint(x_test[0])\\nx_test.shape'"
            ],
            "application/vnd.google.colaboratory.intrinsic+json": {
              "type": "string"
            }
          },
          "metadata": {},
          "execution_count": 16
        }
      ]
    },
    {
      "cell_type": "code",
      "source": [
        "\"\"\"data_train = df.iloc[:800, 1:2]\n",
        "data_test = df.iloc[800:, 1:2]\n",
        "data_total = pd.concat((data_train, data_test), axis=0)\n",
        "total_input = data_total[len(data_total) - len(data_test) - 60:].values\n",
        "total_input = total_input.reshape(-1, 1)\n",
        "total_input = sc.transform(total_input)\n",
        "x_test = []\n",
        "\n",
        "# Modify the loop to create a 2D array\n",
        "for iter in range(60, 519):\n",
        "    x_test.append(list(total_input[iter-60:iter, 0]))\n",
        "\n",
        "# Convert x_test to a NumPy array\n",
        "x_test = np.array(x_test)\n",
        "\n",
        "# Reshape x_test to have the shape (459, 60)\n",
        "x_test = x_test.reshape((x_test.shape[0], 60))\n",
        "\n",
        "print(x_test.shape)  # Should print (459, 60)\"\"\"\n"
      ],
      "metadata": {
        "colab": {
          "base_uri": "https://localhost:8080/",
          "height": 122
        },
        "id": "Z0Dr46p1zTDu",
        "outputId": "294e1bf8-88db-48d9-b118-84f10b447f40"
      },
      "execution_count": 17,
      "outputs": [
        {
          "output_type": "execute_result",
          "data": {
            "text/plain": [
              "'data_train = df.iloc[:800, 1:2]\\ndata_test = df.iloc[800:, 1:2]\\ndata_total = pd.concat((data_train, data_test), axis=0)\\ntotal_input = data_total[len(data_total) - len(data_test) - 60:].values\\ntotal_input = total_input.reshape(-1, 1)\\ntotal_input = sc.transform(total_input)\\nx_test = []\\n\\n# Modify the loop to create a 2D array\\nfor iter in range(60, 519):\\n    x_test.append(list(total_input[iter-60:iter, 0]))\\n\\n# Convert x_test to a NumPy array\\nx_test = np.array(x_test)\\n\\n# Reshape x_test to have the shape (459, 60)\\nx_test = x_test.reshape((x_test.shape[0], 60))\\n\\nprint(x_test.shape)  # Should print (459, 60)'"
            ],
            "application/vnd.google.colaboratory.intrinsic+json": {
              "type": "string"
            }
          },
          "metadata": {},
          "execution_count": 17
        }
      ]
    },
    {
      "cell_type": "code",
      "source": [
        "data_train = df.iloc[:800, 1:2]\n",
        "data_test = df.iloc[800:, 1:2]\n",
        "data_total = pd.concat((data_train, data_test), axis=0)\n",
        "total_input = data_total[len(data_total) - len(data_test) - 60:].values\n",
        "total_input = total_input.reshape(-1, 1)\n",
        "total_input = sc.transform(total_input)\n",
        "x_test = []\n",
        "\n",
        "# Calculate the maximum number of sequences of length 60 that can be created\n",
        "max_sequences = len(total_input) - 60 + 1\n",
        "\n",
        "# Modify the loop to create a 2D array\n",
        "for iter in range(max_sequences):\n",
        "    x_test.append(total_input[iter:iter+60, 0])\n",
        "\n",
        "# Convert x_test to a NumPy array\n",
        "x_test = np.array(x_test)\n",
        "\n",
        "print(x_test.shape)  # Should print (max_sequences, 60)\n"
      ],
      "metadata": {
        "colab": {
          "base_uri": "https://localhost:8080/"
        },
        "id": "UeH-G-5J0e0d",
        "outputId": "1e8a38ab-ddf0-478b-8ea4-a12efe4c8e16"
      },
      "execution_count": 18,
      "outputs": [
        {
          "output_type": "stream",
          "name": "stdout",
          "text": [
            "(457, 60)\n"
          ]
        }
      ]
    },
    {
      "cell_type": "code",
      "source": [
        "x_test = np.reshape(x_test, (x_test.shape[0], x_test.shape[1], 1))\n",
        "print(x_test.shape)\n",
        "\n",
        "predicted_price = algo.predict(x_test)\n",
        "print(predicted_price.shape)\n",
        "predicted_price = sc.inverse_transform(predicted_price)\n",
        "print(predicted_price.shape)"
      ],
      "metadata": {
        "colab": {
          "base_uri": "https://localhost:8080/"
        },
        "id": "5P0XAidPv3LL",
        "outputId": "45050203-bb13-4907-ba28-93daa4de9d88"
      },
      "execution_count": 19,
      "outputs": [
        {
          "output_type": "stream",
          "name": "stdout",
          "text": [
            "(457, 60, 1)\n",
            "15/15 [==============================] - 1s 18ms/step\n",
            "(457, 1)\n",
            "(457, 1)\n"
          ]
        }
      ]
    },
    {
      "cell_type": "code",
      "source": [
        "plt.plot(df.loc[800:, 'Date'],data_test.values, color = 'red', label = 'Real TESLA Stock Price')\n",
        "plt.plot(df.loc[799:, 'Date'],predicted_price, color = 'blue', label = 'Predicted TESLA Stock Price')\n",
        "plt.xticks(np.arange(0,x_test.shape[0],50))\n",
        "plt.title('TESLA Stock Price Prediction')\n",
        "plt.xlabel('Time')\n",
        "plt.ylabel('TESLA Stock Price')\n",
        "plt.legend()\n",
        "plt.show()\n"
      ],
      "metadata": {
        "colab": {
          "base_uri": "https://localhost:8080/",
          "height": 472
        },
        "id": "DDgPWTIPtjpO",
        "outputId": "c16b3185-3a40-474e-ccd1-51d2fe269aee"
      },
      "execution_count": 20,
      "outputs": [
        {
          "output_type": "display_data",
          "data": {
            "text/plain": [
              "<Figure size 640x480 with 1 Axes>"
            ],
            "image/png": "[encoded data removed]"
          },
          "metadata": {}
        }
      ]
    },
    {
      "cell_type": "code",
      "source": [
        "X=testing[-60:]"
      ],
      "metadata": {
        "id": "JSV4RBrn2SBL"
      },
      "execution_count": 29,
      "outputs": []
    },
    {
      "cell_type": "code",
      "source": [
        "X.shape"
      ],
      "metadata": {
        "colab": {
          "base_uri": "https://localhost:8080/"
        },
        "id": "_QqCI3NTabBq",
        "outputId": "e4719e42-e28a-429c-ea59-acbb695dc139"
      },
      "execution_count": 30,
      "outputs": [
        {
          "output_type": "execute_result",
          "data": {
            "text/plain": [
              "(60, 1)"
            ]
          },
          "metadata": {},
          "execution_count": 30
        }
      ]
    },
    {
      "cell_type": "code",
      "source": [],
      "metadata": {
        "id": "ZkdMQqQCatgw"
      },
      "execution_count": 26,
      "outputs": []
    },
    {
      "cell_type": "code",
      "source": [
        "X=sc.fit_transform(X)"
      ],
      "metadata": {
        "id": "evzHW1NnbEf1"
      },
      "execution_count": 31,
      "outputs": []
    },
    {
      "cell_type": "code",
      "source": [
        "X=np.reshape(X,(1,60,1))"
      ],
      "metadata": {
        "id": "cR9e-FXdcnEe"
      },
      "execution_count": 32,
      "outputs": []
    },
    {
      "cell_type": "code",
      "source": [
        "close=algo.predict(X)"
      ],
      "metadata": {
        "colab": {
          "base_uri": "https://localhost:8080/"
        },
        "id": "d9P6kq-kco13",
        "outputId": "724795f6-9071-4884-e2b8-4fd522b12f51"
      },
      "execution_count": 33,
      "outputs": [
        {
          "output_type": "stream",
          "name": "stdout",
          "text": [
            "1/1 [==============================] - 0s 24ms/step\n"
          ]
        }
      ]
    },
    {
      "cell_type": "code",
      "source": [
        "y=sc.inverse_transform(close)"
      ],
      "metadata": {
        "id": "vMnd07CpczT9"
      },
      "execution_count": 35,
      "outputs": []
    },
    {
      "cell_type": "code",
      "source": [
        "y"
      ],
      "metadata": {
        "colab": {
          "base_uri": "https://localhost:8080/"
        },
        "id": "tdPZ5mHbc5YK",
        "outputId": "57219b95-281f-4ac3-d086-a673427ebc7e"
      },
      "execution_count": 36,
      "outputs": [
        {
          "output_type": "execute_result",
          "data": {
            "text/plain": [
              "array([[254.71523]], dtype=float32)"
            ]
          },
          "metadata": {},
          "execution_count": 36
        }
      ]
    },
    {
      "cell_type": "code",
      "source": [],
      "metadata": {
        "id": "E1chkdkHdInb"
      },
      "execution_count": null,
      "outputs": []
    }
  ]
}